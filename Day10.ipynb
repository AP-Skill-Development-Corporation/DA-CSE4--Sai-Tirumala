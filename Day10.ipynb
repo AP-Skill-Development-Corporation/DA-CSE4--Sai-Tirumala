{
 "cells": [
  {
   "cell_type": "markdown",
   "id": "b423a337",
   "metadata": {},
   "source": [
    "#### Today Topics\n",
    "- Numpy\n",
    "- Pandas"
   ]
  },
  {
   "cell_type": "code",
   "execution_count": 1,
   "id": "7277c074",
   "metadata": {},
   "outputs": [
    {
     "name": "stdout",
     "output_type": "stream",
     "text": [
      "[[3 4 5]\n",
      " [1 8 9]]\n"
     ]
    }
   ],
   "source": [
    "import numpy as np\n",
    "ar=np.array([[3,4,5],[1,8,9]])\n",
    "print(ar)"
   ]
  },
  {
   "cell_type": "code",
   "execution_count": 2,
   "id": "501374b9",
   "metadata": {
    "collapsed": true
   },
   "outputs": [
    {
     "ename": "SyntaxError",
     "evalue": "invalid syntax (1949763783.py, line 2)",
     "output_type": "error",
     "traceback": [
      "\u001b[1;36m  File \u001b[1;32m\"C:\\Users\\sivak\\AppData\\Local\\Temp\\ipykernel_33128\\1949763783.py\"\u001b[1;36m, line \u001b[1;32m2\u001b[0m\n\u001b[1;33m    1 0 0\u001b[0m\n\u001b[1;37m      ^\u001b[0m\n\u001b[1;31mSyntaxError\u001b[0m\u001b[1;31m:\u001b[0m invalid syntax\n"
     ]
    }
   ],
   "source": [
    "#identity,eye() to create identity matrix\n",
    "1 0 0 \n",
    "0 1 0\n",
    "0 0 1"
   ]
  },
  {
   "cell_type": "code",
   "execution_count": 4,
   "id": "06824e7b",
   "metadata": {
    "collapsed": true
   },
   "outputs": [
    {
     "name": "stdout",
     "output_type": "stream",
     "text": [
      "[[1 0 0]\n",
      " [0 1 0]\n",
      " [0 0 1]]\n"
     ]
    }
   ],
   "source": [
    "print(np.identity(3,dtype=int)) # since square matrix"
   ]
  },
  {
   "cell_type": "code",
   "execution_count": 5,
   "id": "40590be6",
   "metadata": {
    "collapsed": true
   },
   "outputs": [
    {
     "name": "stdout",
     "output_type": "stream",
     "text": [
      "[[1. 0. 0. 0.]\n",
      " [0. 1. 0. 0.]\n",
      " [0. 0. 1. 0.]\n",
      " [0. 0. 0. 1.]]\n"
     ]
    }
   ],
   "source": [
    "print(np.eye(4))"
   ]
  },
  {
   "cell_type": "code",
   "execution_count": 8,
   "id": "4730f943",
   "metadata": {
    "collapsed": true
   },
   "outputs": [
    {
     "name": "stdout",
     "output_type": "stream",
     "text": [
      "[[1. 0. 0.]\n",
      " [0. 1. 0.]\n",
      " [0. 0. 1.]\n",
      " [0. 0. 0.]]\n"
     ]
    },
    {
     "ename": "TypeError",
     "evalue": "Cannot interpret '3' as a data type",
     "output_type": "error",
     "traceback": [
      "\u001b[1;31m---------------------------------------------------------------------------\u001b[0m",
      "\u001b[1;31mTypeError\u001b[0m                                 Traceback (most recent call last)",
      "\u001b[1;32m~\\AppData\\Local\\Temp\\ipykernel_33128\\1349211281.py\u001b[0m in \u001b[0;36m<module>\u001b[1;34m\u001b[0m\n\u001b[0;32m      1\u001b[0m \u001b[0mprint\u001b[0m\u001b[1;33m(\u001b[0m\u001b[0mnp\u001b[0m\u001b[1;33m.\u001b[0m\u001b[0meye\u001b[0m\u001b[1;33m(\u001b[0m\u001b[1;36m4\u001b[0m\u001b[1;33m,\u001b[0m\u001b[1;36m3\u001b[0m\u001b[1;33m)\u001b[0m\u001b[1;33m)\u001b[0m \u001b[1;31m# (row,col)\u001b[0m\u001b[1;33m\u001b[0m\u001b[1;33m\u001b[0m\u001b[0m\n\u001b[1;32m----> 2\u001b[1;33m \u001b[0mprint\u001b[0m\u001b[1;33m(\u001b[0m\u001b[0mnp\u001b[0m\u001b[1;33m.\u001b[0m\u001b[0midentity\u001b[0m\u001b[1;33m(\u001b[0m\u001b[1;36m5\u001b[0m\u001b[1;33m,\u001b[0m\u001b[1;36m3\u001b[0m\u001b[1;33m)\u001b[0m\u001b[1;33m)\u001b[0m \u001b[1;31m# unequal size won't work here\u001b[0m\u001b[1;33m\u001b[0m\u001b[1;33m\u001b[0m\u001b[0m\n\u001b[0m",
      "\u001b[1;32mC:\\ProgramData\\Anaconda3\\lib\\site-packages\\numpy\\core\\numeric.py\u001b[0m in \u001b[0;36midentity\u001b[1;34m(n, dtype, like)\u001b[0m\n\u001b[0;32m   2165\u001b[0m \u001b[1;33m\u001b[0m\u001b[0m\n\u001b[0;32m   2166\u001b[0m     \u001b[1;32mfrom\u001b[0m \u001b[0mnumpy\u001b[0m \u001b[1;32mimport\u001b[0m \u001b[0meye\u001b[0m\u001b[1;33m\u001b[0m\u001b[1;33m\u001b[0m\u001b[0m\n\u001b[1;32m-> 2167\u001b[1;33m     \u001b[1;32mreturn\u001b[0m \u001b[0meye\u001b[0m\u001b[1;33m(\u001b[0m\u001b[0mn\u001b[0m\u001b[1;33m,\u001b[0m \u001b[0mdtype\u001b[0m\u001b[1;33m=\u001b[0m\u001b[0mdtype\u001b[0m\u001b[1;33m,\u001b[0m \u001b[0mlike\u001b[0m\u001b[1;33m=\u001b[0m\u001b[0mlike\u001b[0m\u001b[1;33m)\u001b[0m\u001b[1;33m\u001b[0m\u001b[1;33m\u001b[0m\u001b[0m\n\u001b[0m\u001b[0;32m   2168\u001b[0m \u001b[1;33m\u001b[0m\u001b[0m\n\u001b[0;32m   2169\u001b[0m \u001b[1;33m\u001b[0m\u001b[0m\n",
      "\u001b[1;32mC:\\ProgramData\\Anaconda3\\lib\\site-packages\\numpy\\lib\\twodim_base.py\u001b[0m in \u001b[0;36meye\u001b[1;34m(N, M, k, dtype, order, like)\u001b[0m\n\u001b[0;32m    212\u001b[0m     \u001b[1;32mif\u001b[0m \u001b[0mM\u001b[0m \u001b[1;32mis\u001b[0m \u001b[1;32mNone\u001b[0m\u001b[1;33m:\u001b[0m\u001b[1;33m\u001b[0m\u001b[1;33m\u001b[0m\u001b[0m\n\u001b[0;32m    213\u001b[0m         \u001b[0mM\u001b[0m \u001b[1;33m=\u001b[0m \u001b[0mN\u001b[0m\u001b[1;33m\u001b[0m\u001b[1;33m\u001b[0m\u001b[0m\n\u001b[1;32m--> 214\u001b[1;33m     \u001b[0mm\u001b[0m \u001b[1;33m=\u001b[0m \u001b[0mzeros\u001b[0m\u001b[1;33m(\u001b[0m\u001b[1;33m(\u001b[0m\u001b[0mN\u001b[0m\u001b[1;33m,\u001b[0m \u001b[0mM\u001b[0m\u001b[1;33m)\u001b[0m\u001b[1;33m,\u001b[0m \u001b[0mdtype\u001b[0m\u001b[1;33m=\u001b[0m\u001b[0mdtype\u001b[0m\u001b[1;33m,\u001b[0m \u001b[0morder\u001b[0m\u001b[1;33m=\u001b[0m\u001b[0morder\u001b[0m\u001b[1;33m)\u001b[0m\u001b[1;33m\u001b[0m\u001b[1;33m\u001b[0m\u001b[0m\n\u001b[0m\u001b[0;32m    215\u001b[0m     \u001b[1;32mif\u001b[0m \u001b[0mk\u001b[0m \u001b[1;33m>=\u001b[0m \u001b[0mM\u001b[0m\u001b[1;33m:\u001b[0m\u001b[1;33m\u001b[0m\u001b[1;33m\u001b[0m\u001b[0m\n\u001b[0;32m    216\u001b[0m         \u001b[1;32mreturn\u001b[0m \u001b[0mm\u001b[0m\u001b[1;33m\u001b[0m\u001b[1;33m\u001b[0m\u001b[0m\n",
      "\u001b[1;31mTypeError\u001b[0m: Cannot interpret '3' as a data type"
     ]
    }
   ],
   "source": [
    "print(np.eye(4,3)) # (row,col)\n",
    "print(np.identity(5,3)) # unequal size won't work here"
   ]
  },
  {
   "cell_type": "code",
   "execution_count": 12,
   "id": "3cac4198",
   "metadata": {
    "collapsed": true
   },
   "outputs": [
    {
     "name": "stdout",
     "output_type": "stream",
     "text": [
      "[1. 1. 1. 1. 1.]\n",
      "\n",
      "[[1 1 1 1 1]\n",
      " [1 1 1 1 1]\n",
      " [1 1 1 1 1]\n",
      " [1 1 1 1 1]]\n"
     ]
    }
   ],
   "source": [
    "#ones matrix\n",
    "on=np.ones(5)\n",
    "o2=np.ones((4,5),dtype=int)\n",
    "print(on)\n",
    "print()\n",
    "print(o2)"
   ]
  },
  {
   "cell_type": "code",
   "execution_count": 15,
   "id": "1d663809",
   "metadata": {
    "collapsed": true
   },
   "outputs": [
    {
     "name": "stdout",
     "output_type": "stream",
     "text": [
      "[0. 0. 0. 0. 0. 0. 0. 0. 0. 0.]\n",
      "\n",
      "[[0. 0. 0. 0.]\n",
      " [0. 0. 0. 0.]\n",
      " [0. 0. 0. 0.]\n",
      " [0. 0. 0. 0.]]\n"
     ]
    }
   ],
   "source": [
    "#zeros matrix\n",
    "z=np.zeros(10)\n",
    "print(z)\n",
    "z2=np.zeros((4,4))\n",
    "print()\n",
    "print(z2)"
   ]
  },
  {
   "cell_type": "code",
   "execution_count": 20,
   "id": "d5a975d9",
   "metadata": {
    "collapsed": true
   },
   "outputs": [
    {
     "data": {
      "text/plain": [
       "array(['h', 'h', 'h', 'h', 'h', 'h', 'h', 'h'], dtype='<U1')"
      ]
     },
     "execution_count": 20,
     "metadata": {},
     "output_type": "execute_result"
    }
   ],
   "source": [
    "#full and fill\n",
    "f=np.full(8,'h') # row matrix with 8 h's\n",
    "f"
   ]
  },
  {
   "cell_type": "code",
   "execution_count": 21,
   "id": "d5467ea8",
   "metadata": {
    "collapsed": true
   },
   "outputs": [
    {
     "name": "stdout",
     "output_type": "stream",
     "text": [
      "['1' '1' '1' '1' '1' '1' '1' '1']\n"
     ]
    }
   ],
   "source": [
    "f.fill(10) # filled with new data\n",
    "print(f)"
   ]
  },
  {
   "cell_type": "code",
   "execution_count": 25,
   "id": "142ea37e",
   "metadata": {
    "collapsed": true
   },
   "outputs": [
    {
     "name": "stdout",
     "output_type": "stream",
     "text": [
      "[[ 0  1  2  3  4]\n",
      " [ 5  6  7  8  9]\n",
      " [10 11 12 13 14]\n",
      " [15 16 17 18 19]\n",
      " [20 21 22 23 24]]\n",
      "\n",
      "[ 0  6 12 18 24]\n",
      "\n",
      "[[5 0 0 0]\n",
      " [0 6 0 0]\n",
      " [0 0 7 0]\n",
      " [0 0 0 8]]\n"
     ]
    }
   ],
   "source": [
    "#diag()\n",
    "mn=np.arange(25).reshape(5,5)\n",
    "print(mn) #\n",
    "print()\n",
    "print(np.diag(mn)) #getting diagonal elements of the existed array\n",
    "print()\n",
    "print(np.diag([5,6,7,8]))#creating the diagonal array with specific values"
   ]
  },
  {
   "cell_type": "code",
   "execution_count": 26,
   "id": "a7290e50",
   "metadata": {
    "collapsed": true
   },
   "outputs": [
    {
     "data": {
      "text/plain": [
       "array([3.        , 3.08163265, 3.16326531, 3.24489796, 3.32653061,\n",
       "       3.40816327, 3.48979592, 3.57142857, 3.65306122, 3.73469388,\n",
       "       3.81632653, 3.89795918, 3.97959184, 4.06122449, 4.14285714,\n",
       "       4.2244898 , 4.30612245, 4.3877551 , 4.46938776, 4.55102041,\n",
       "       4.63265306, 4.71428571, 4.79591837, 4.87755102, 4.95918367,\n",
       "       5.04081633, 5.12244898, 5.20408163, 5.28571429, 5.36734694,\n",
       "       5.44897959, 5.53061224, 5.6122449 , 5.69387755, 5.7755102 ,\n",
       "       5.85714286, 5.93877551, 6.02040816, 6.10204082, 6.18367347,\n",
       "       6.26530612, 6.34693878, 6.42857143, 6.51020408, 6.59183673,\n",
       "       6.67346939, 6.75510204, 6.83673469, 6.91836735, 7.        ])"
      ]
     },
     "execution_count": 26,
     "metadata": {},
     "output_type": "execute_result"
    }
   ],
   "source": [
    "#linear space()\n",
    "#linearly separates the given interval\n",
    "np.linspace(3,7)#50 partitions by default"
   ]
  },
  {
   "cell_type": "code",
   "execution_count": 30,
   "id": "3960cfef",
   "metadata": {},
   "outputs": [
    {
     "name": "stdout",
     "output_type": "stream",
     "text": [
      "[[4.         4.09090909 4.18181818 4.27272727]\n",
      " [4.36363636 4.45454545 4.54545455 4.63636364]\n",
      " [4.72727273 4.81818182 4.90909091 5.        ]]\n"
     ]
    }
   ],
   "source": [
    "print(np.linspace(4,5,12).reshape(3,4))#both limits are inclusive"
   ]
  },
  {
   "cell_type": "code",
   "execution_count": 29,
   "id": "ec4ebbc6",
   "metadata": {
    "collapsed": true
   },
   "outputs": [
    {
     "data": {
      "text/plain": [
       "0.16666666666666666"
      ]
     },
     "execution_count": 29,
     "metadata": {},
     "output_type": "execute_result"
    }
   ],
   "source": [
    "#4,5->2\n",
    "1/6"
   ]
  },
  {
   "cell_type": "markdown",
   "id": "4a1df637",
   "metadata": {},
   "source": [
    "#### random()\n",
    "- random() is the sub module of numpy module\n",
    "- np.random.randint(up)\n",
    "    - generates single random digit in a specific range\n",
    "    - by default the range starts from 0\n",
    "- np.random.randint(lw,up)\n",
    "- np.random.randint(lw,up,n)\n",
    "    - generates n random integeres in a given range\n",
    "- numpy.random.random(row,col)\n",
    "    - random samples from 0 to 1(+ve integers) with mentioned size\n",
    "- numpy.random.rand()\n",
    "    - this is the short form of random.random()\n",
    "- numpy.random.randn(row,col)\n",
    "    - it will generate the -ve random samples "
   ]
  },
  {
   "cell_type": "code",
   "execution_count": 43,
   "id": "123fb35d",
   "metadata": {
    "collapsed": true
   },
   "outputs": [
    {
     "name": "stdout",
     "output_type": "stream",
     "text": [
      "42\n",
      "2844\n",
      "[[1109  716 1565  425  849]\n",
      " [ 117  212  434 1840  302]\n",
      " [1231 1811  811  950 1796]\n",
      " [ 548 1182 1412 1720 1341]\n",
      " [1630  736  385  785  628]\n",
      " [1111 1722 1749 1772  578]]\n"
     ]
    }
   ],
   "source": [
    "print(np.random.randint(100))\n",
    "print(np.random.randint(1000,5000))\n",
    "print(np.random.randint(100,2000,30).reshape(6,5))"
   ]
  },
  {
   "cell_type": "code",
   "execution_count": 50,
   "id": "234e0d9a",
   "metadata": {
    "collapsed": true
   },
   "outputs": [
    {
     "name": "stdout",
     "output_type": "stream",
     "text": [
      "[[0.14524312 0.09982229 0.7469519  0.95443809]\n",
      " [0.57128964 0.94111251 0.96411668 0.23822198]\n",
      " [0.24423687 0.6310574  0.638792   0.26604854]]\n"
     ]
    }
   ],
   "source": [
    "print(np.random.random((3,4))) # +ve random samples.."
   ]
  },
  {
   "cell_type": "code",
   "execution_count": 51,
   "id": "ad850a9b",
   "metadata": {
    "collapsed": true
   },
   "outputs": [
    {
     "name": "stdout",
     "output_type": "stream",
     "text": [
      "[[0.94250433 0.13170222 0.71636825 0.99321332]\n",
      " [0.12544954 0.59194635 0.05566148 0.57986942]\n",
      " [0.40520148 0.93085535 0.14566424 0.86367422]]\n"
     ]
    }
   ],
   "source": [
    "print(np.random.rand(3,4))"
   ]
  },
  {
   "cell_type": "code",
   "execution_count": 53,
   "id": "2e671830",
   "metadata": {
    "collapsed": true
   },
   "outputs": [
    {
     "name": "stdout",
     "output_type": "stream",
     "text": [
      "[[-0.08495584  0.97425973  1.4523124 ]\n",
      " [ 0.88288609  0.56010701 -0.12873661]\n",
      " [-0.76563321 -0.64536283  0.72032479]]\n"
     ]
    }
   ],
   "source": [
    "print(np.random.randn(3,3)) #-ve random samples"
   ]
  },
  {
   "cell_type": "markdown",
   "id": "441cd00d",
   "metadata": {},
   "source": [
    "#### accessing the arrays\n",
    "- using index\n",
    "- index is of 3types\n",
    "    1. forward indexing\n",
    "    2. backward indexing\n",
    "    3. fancy indexing"
   ]
  },
  {
   "cell_type": "code",
   "execution_count": 56,
   "id": "c40ce4a2",
   "metadata": {
    "collapsed": true
   },
   "outputs": [
    {
     "name": "stdout",
     "output_type": "stream",
     "text": [
      "[[243  50 435 485 347]\n",
      " [313 168  93 241 181]\n",
      " [416 279 341 256 234]\n",
      " [414 469 477 274 215]\n",
      " [240 182 134 143 491]]\n"
     ]
    }
   ],
   "source": [
    "rn=np.random.randint(30,500,25).reshape(5,5)\n",
    "print(rn)"
   ]
  },
  {
   "cell_type": "code",
   "execution_count": 57,
   "id": "6a68d905",
   "metadata": {},
   "outputs": [
    {
     "data": {
      "text/plain": [
       "array([243,  50, 435, 485, 347])"
      ]
     },
     "execution_count": 57,
     "metadata": {},
     "output_type": "execute_result"
    }
   ],
   "source": [
    "#2d array:array entirely depends upon the row only\n",
    "rn[0]"
   ]
  },
  {
   "cell_type": "code",
   "execution_count": 58,
   "id": "3c7b19e3",
   "metadata": {},
   "outputs": [
    {
     "data": {
      "text/plain": [
       "array([416, 279, 341, 256, 234])"
      ]
     },
     "execution_count": 58,
     "metadata": {},
     "output_type": "execute_result"
    }
   ],
   "source": [
    "rn[2]#3rd row sample"
   ]
  },
  {
   "cell_type": "code",
   "execution_count": 59,
   "id": "7f44dd8b",
   "metadata": {
    "collapsed": true
   },
   "outputs": [
    {
     "data": {
      "text/plain": [
       "array([[416, 279, 341, 256, 234],\n",
       "       [414, 469, 477, 274, 215],\n",
       "       [240, 182, 134, 143, 491]])"
      ]
     },
     "execution_count": 59,
     "metadata": {},
     "output_type": "execute_result"
    }
   ],
   "source": [
    "rn[2:] # contains rows from 3rd"
   ]
  },
  {
   "cell_type": "code",
   "execution_count": 61,
   "id": "79fc6899",
   "metadata": {
    "collapsed": true
   },
   "outputs": [
    {
     "name": "stdout",
     "output_type": "stream",
     "text": [
      "[[243  50 435 485 347]\n",
      " [313 168  93 241 181]\n",
      " [416 279 341 256 234]\n",
      " [414 469 477 274 215]\n",
      " [240 182 134 143 491]]\n",
      "\n",
      "[[243  50 435 485 347]\n",
      " [313 168  93 241 181]\n",
      " [416 279 341 256 234]\n",
      " [414 469 477 274 215]\n",
      " [240 182 134 143 491]]\n"
     ]
    }
   ],
   "source": [
    "print(rn[:])\n",
    "print()\n",
    "print(rn[::])"
   ]
  },
  {
   "cell_type": "code",
   "execution_count": 65,
   "id": "0e3fee1c",
   "metadata": {
    "collapsed": true
   },
   "outputs": [
    {
     "name": "stdout",
     "output_type": "stream",
     "text": [
      "[[240 182 134 143 491]\n",
      " [414 469 477 274 215]\n",
      " [416 279 341 256 234]\n",
      " [313 168  93 241 181]\n",
      " [243  50 435 485 347]]\n",
      "\n",
      "[[243  50 435 485 347]\n",
      " [416 279 341 256 234]\n",
      " [240 182 134 143 491]]\n",
      "\n",
      "[[240 182 134 143 491]\n",
      " [416 279 341 256 234]\n",
      " [243  50 435 485 347]]\n"
     ]
    }
   ],
   "source": [
    "print(rn[::-1]) # represents the array in reverse order\n",
    "print()\n",
    "print(rn[::2])#getting alternate rows\n",
    "print()\n",
    "print(rn[::-2])#geeting alternate rows in reverse order"
   ]
  },
  {
   "cell_type": "code",
   "execution_count": 66,
   "id": "fc31fbdd",
   "metadata": {
    "collapsed": true
   },
   "outputs": [
    {
     "data": {
      "text/plain": [
       "array([[False, False,  True,  True,  True],\n",
       "       [ True, False, False, False, False],\n",
       "       [ True,  True,  True,  True, False],\n",
       "       [ True,  True,  True,  True, False],\n",
       "       [False, False, False, False,  True]])"
      ]
     },
     "execution_count": 66,
     "metadata": {},
     "output_type": "execute_result"
    }
   ],
   "source": [
    "rn>250# get the original array which satisfy this condition"
   ]
  },
  {
   "cell_type": "code",
   "execution_count": 74,
   "id": "ffd024f6",
   "metadata": {},
   "outputs": [
    {
     "name": "stdout",
     "output_type": "stream",
     "text": [
      "[243 435 485 347 313 241 416 279 341 256 414 469 477 274 491]\n",
      "no.of values= 15\n",
      "[[243 435 485 347 313]\n",
      " [241 416 279 341 256]\n",
      " [414 469 477 274 491]]\n"
     ]
    }
   ],
   "source": [
    "new=rn[rn>240]#pass the condition as index\n",
    "print(new)\n",
    "print(\"no.of values=\",len(new))\n",
    "print(new.reshape(3,5))"
   ]
  },
  {
   "cell_type": "code",
   "execution_count": 75,
   "id": "2d1b7c04",
   "metadata": {
    "collapsed": true
   },
   "outputs": [
    {
     "data": {
      "text/plain": [
       "array([[435, 485],\n",
       "       [ 93, 241],\n",
       "       [341, 256],\n",
       "       [477, 274],\n",
       "       [134, 143]])"
      ]
     },
     "execution_count": 75,
     "metadata": {},
     "output_type": "execute_result"
    }
   ],
   "source": [
    "#2d indexing\n",
    "rn[:,2:4]#entire rows,slicing in cols"
   ]
  },
  {
   "cell_type": "code",
   "execution_count": 76,
   "id": "1228e75b",
   "metadata": {
    "collapsed": true
   },
   "outputs": [
    {
     "data": {
      "text/plain": [
       "array([[243, 435, 347],\n",
       "       [416, 341, 234],\n",
       "       [240, 134, 491]])"
      ]
     },
     "execution_count": 76,
     "metadata": {},
     "output_type": "execute_result"
    }
   ],
   "source": [
    "rn[::2,::2]#getting the alternate columns in alternate rows"
   ]
  },
  {
   "cell_type": "code",
   "execution_count": 77,
   "id": "b2f65b98",
   "metadata": {},
   "outputs": [
    {
     "data": {
      "text/plain": [
       "256"
      ]
     },
     "execution_count": 77,
     "metadata": {},
     "output_type": "execute_result"
    }
   ],
   "source": [
    "#getting specific value at position\n",
    "rn[2][3]"
   ]
  },
  {
   "cell_type": "code",
   "execution_count": 78,
   "id": "539da1c7",
   "metadata": {
    "collapsed": true
   },
   "outputs": [
    {
     "data": {
      "text/plain": [
       "array([[243,  50, 435, 485, 347],\n",
       "       [313, 168,  93, 241, 181],\n",
       "       [416, 279, 341, 256, 234],\n",
       "       [414, 469, 477, 274, 215],\n",
       "       [240, 182, 134, 143, 491]])"
      ]
     },
     "execution_count": 78,
     "metadata": {},
     "output_type": "execute_result"
    }
   ],
   "source": [
    "rn # at 3rd row 4th column"
   ]
  },
  {
   "cell_type": "markdown",
   "id": "3cec2a49",
   "metadata": {},
   "source": [
    "#### scientific computation on the arrays\n",
    "- mathematical operations\n",
    "- std,exp,log etc"
   ]
  },
  {
   "cell_type": "code",
   "execution_count": 79,
   "id": "c1bd02b8",
   "metadata": {},
   "outputs": [
    {
     "data": {
      "text/plain": [
       "array([[243,  50, 435, 485, 347],\n",
       "       [313, 168,  93, 241, 181],\n",
       "       [416, 279, 341, 256, 234],\n",
       "       [414, 469, 477, 274, 215],\n",
       "       [240, 182, 134, 143, 491]])"
      ]
     },
     "execution_count": 79,
     "metadata": {},
     "output_type": "execute_result"
    }
   ],
   "source": [
    "rn"
   ]
  },
  {
   "cell_type": "code",
   "execution_count": 80,
   "id": "b14d8de9",
   "metadata": {
    "collapsed": true
   },
   "outputs": [
    {
     "name": "stdout",
     "output_type": "stream",
     "text": [
      "[[ 0  1  2  3  4]\n",
      " [ 5  6  7  8  9]\n",
      " [10 11 12 13 14]\n",
      " [15 16 17 18 19]\n",
      " [20 21 22 23 24]]\n"
     ]
    }
   ],
   "source": [
    "man=np.arange(25).reshape(5,5)\n",
    "print(man)"
   ]
  },
  {
   "cell_type": "code",
   "execution_count": 82,
   "id": "64227450",
   "metadata": {
    "collapsed": true
   },
   "outputs": [
    {
     "name": "stdout",
     "output_type": "stream",
     "text": [
      "[[243  51 437 488 351]\n",
      " [318 174 100 249 190]\n",
      " [426 290 353 269 248]\n",
      " [429 485 494 292 234]\n",
      " [260 203 156 166 515]]\n",
      "\n",
      "[[243  49 433 482 343]\n",
      " [308 162  86 233 172]\n",
      " [406 268 329 243 220]\n",
      " [399 453 460 256 196]\n",
      " [220 161 112 120 467]]\n",
      "\n",
      "[[    0    50   870  1455  1388]\n",
      " [ 1565  1008   651  1928  1629]\n",
      " [ 4160  3069  4092  3328  3276]\n",
      " [ 6210  7504  8109  4932  4085]\n",
      " [ 4800  3822  2948  3289 11784]]\n",
      "\n",
      "[[         inf  50.         217.5        161.66666667  86.75      ]\n",
      " [ 62.6         28.          13.28571429  30.125       20.11111111]\n",
      " [ 41.6         25.36363636  28.41666667  19.69230769  16.71428571]\n",
      " [ 27.6         29.3125      28.05882353  15.22222222  11.31578947]\n",
      " [ 12.           8.66666667   6.09090909   6.2173913   20.45833333]]\n",
      "\n",
      "[[  0  50 217 161  86]\n",
      " [ 62  28  13  30  20]\n",
      " [ 41  25  28  19  16]\n",
      " [ 27  29  28  15  11]\n",
      " [ 12   8   6   6  20]]\n",
      "\n",
      "[[ 0  0  1  2  3]\n",
      " [ 3  0  2  1  1]\n",
      " [ 6  4  5  9 10]\n",
      " [ 9  5  1  4  6]\n",
      " [ 0 14  2  5 11]]\n"
     ]
    },
    {
     "name": "stderr",
     "output_type": "stream",
     "text": [
      "C:\\Users\\sivak\\AppData\\Local\\Temp\\ipykernel_33128\\2515652672.py:8: RuntimeWarning: divide by zero encountered in true_divide\n",
      "  print(rn/man)\n",
      "C:\\Users\\sivak\\AppData\\Local\\Temp\\ipykernel_33128\\2515652672.py:10: RuntimeWarning: divide by zero encountered in floor_divide\n",
      "  print(rn//man)\n",
      "C:\\Users\\sivak\\AppData\\Local\\Temp\\ipykernel_33128\\2515652672.py:12: RuntimeWarning: divide by zero encountered in remainder\n",
      "  print(rn%man)\n"
     ]
    }
   ],
   "source": [
    "#arithmetic operations on both rn & man\n",
    "print(rn+man)\n",
    "print()\n",
    "print(rn-man)\n",
    "print()\n",
    "print(rn*man)\n",
    "print()\n",
    "print(rn/man)\n",
    "print()\n",
    "print(rn//man)\n",
    "print()\n",
    "print(rn%man)"
   ]
  },
  {
   "cell_type": "code",
   "execution_count": 83,
   "id": "c00fce07",
   "metadata": {},
   "outputs": [
    {
     "name": "stdout",
     "output_type": "stream",
     "text": [
      "[[1944  400 3480 3880 2776]\n",
      " [2504 1344  744 1928 1448]\n",
      " [3328 2232 2728 2048 1872]\n",
      " [3312 3752 3816 2192 1720]\n",
      " [1920 1456 1072 1144 3928]]\n"
     ]
    }
   ],
   "source": [
    "#scientific computation\n",
    "#broad casting(bigger change) with scalar value\n",
    "print(rn*8) # scalar value applied on vector"
   ]
  },
  {
   "cell_type": "code",
   "execution_count": 84,
   "id": "382a2f5c",
   "metadata": {
    "collapsed": true
   },
   "outputs": [
    {
     "data": {
      "text/plain": [
       "2.302585092994046"
      ]
     },
     "execution_count": 84,
     "metadata": {},
     "output_type": "execute_result"
    }
   ],
   "source": [
    "#logarithms and exponentials\n",
    "np.log(10)"
   ]
  },
  {
   "cell_type": "code",
   "execution_count": 85,
   "id": "8e35739c",
   "metadata": {
    "collapsed": true
   },
   "outputs": [
    {
     "data": {
      "text/plain": [
       "0.0"
      ]
     },
     "execution_count": 85,
     "metadata": {},
     "output_type": "execute_result"
    }
   ],
   "source": [
    "np.log(1)"
   ]
  },
  {
   "cell_type": "code",
   "execution_count": 86,
   "id": "1b7cb9c4",
   "metadata": {
    "collapsed": true
   },
   "outputs": [
    {
     "data": {
      "text/plain": [
       "0.6931471805599453"
      ]
     },
     "execution_count": 86,
     "metadata": {},
     "output_type": "execute_result"
    }
   ],
   "source": [
    "np.log(2)"
   ]
  },
  {
   "cell_type": "code",
   "execution_count": 87,
   "id": "297cf58d",
   "metadata": {
    "collapsed": true
   },
   "outputs": [
    {
     "data": {
      "text/plain": [
       "1.0"
      ]
     },
     "execution_count": 87,
     "metadata": {},
     "output_type": "execute_result"
    }
   ],
   "source": [
    "np.log2(2)"
   ]
  },
  {
   "cell_type": "code",
   "execution_count": 88,
   "id": "56608415",
   "metadata": {
    "collapsed": true
   },
   "outputs": [
    {
     "data": {
      "text/plain": [
       "array([[5.49306144, 3.91202301, 6.07534603, 6.18414889, 5.84932478],\n",
       "       [5.74620319, 5.12396398, 4.53259949, 5.48479693, 5.19849703],\n",
       "       [6.03068526, 5.63121178, 5.83188248, 5.54517744, 5.45532112],\n",
       "       [6.02586597, 6.15060277, 6.16751649, 5.61312811, 5.37063803],\n",
       "       [5.48063892, 5.20400669, 4.8978398 , 4.96284463, 6.19644413]])"
      ]
     },
     "execution_count": 88,
     "metadata": {},
     "output_type": "execute_result"
    }
   ],
   "source": [
    "np.log(rn)# finding log values on entire array"
   ]
  },
  {
   "cell_type": "code",
   "execution_count": 89,
   "id": "e311edf6",
   "metadata": {},
   "outputs": [
    {
     "data": {
      "text/plain": [
       "array([1.38629436, 1.60943791, 1.79175947, 2.30258509])"
      ]
     },
     "execution_count": 89,
     "metadata": {},
     "output_type": "execute_result"
    }
   ],
   "source": [
    "np.log([4,5,6,10])"
   ]
  },
  {
   "cell_type": "code",
   "execution_count": 90,
   "id": "0769b3be",
   "metadata": {
    "collapsed": true
   },
   "outputs": [
    {
     "data": {
      "text/plain": [
       "126.74594431381227"
      ]
     },
     "execution_count": 90,
     "metadata": {},
     "output_type": "execute_result"
    }
   ],
   "source": [
    "rn.std()# standard deviation\n",
    "# with what differnce of values are getting deviated"
   ]
  },
  {
   "cell_type": "code",
   "execution_count": 91,
   "id": "94501b76",
   "metadata": {},
   "outputs": [
    {
     "data": {
      "text/plain": [
       "284.84"
      ]
     },
     "execution_count": 91,
     "metadata": {},
     "output_type": "execute_result"
    }
   ],
   "source": [
    "rn.mean()#average"
   ]
  },
  {
   "cell_type": "code",
   "execution_count": 94,
   "id": "120afed0",
   "metadata": {
    "collapsed": true
   },
   "outputs": [
    {
     "name": "stdout",
     "output_type": "stream",
     "text": [
      "50\n",
      "491\n",
      "7121\n"
     ]
    }
   ],
   "source": [
    "print(rn.min())\n",
    "print(rn.max())\n",
    "print(rn.sum())"
   ]
  },
  {
   "cell_type": "code",
   "execution_count": 95,
   "id": "25002515",
   "metadata": {},
   "outputs": [
    {
     "data": {
      "text/plain": [
       "2.718281828459045"
      ]
     },
     "execution_count": 95,
     "metadata": {},
     "output_type": "execute_result"
    }
   ],
   "source": [
    "#exponentials \n",
    "np.exp(1)"
   ]
  },
  {
   "cell_type": "code",
   "execution_count": 96,
   "id": "499f8202",
   "metadata": {
    "collapsed": true
   },
   "outputs": [
    {
     "data": {
      "text/plain": [
       "array([[3.41632440e+105, 5.18470553e+021, 8.28132117e+188,\n",
       "        4.29362116e+210, 5.01401028e+150],\n",
       "       [8.59355450e+135, 9.15109281e+072, 2.45124554e+040,\n",
       "        4.62349230e+104, 4.04856601e+078],\n",
       "       [4.63985567e+180, 1.47285655e+121, 1.24284889e+148,\n",
       "        1.51142767e+111, 4.21607925e+101],\n",
       "       [6.27936182e+179, 4.83183408e+203, 1.44034944e+207,\n",
       "        9.92402938e+118, 2.36218338e+093],\n",
       "       [1.70088776e+104, 1.10051434e+079, 1.56841351e+058,\n",
       "        1.27089863e+062, 1.73217041e+213]])"
      ]
     },
     "execution_count": 96,
     "metadata": {},
     "output_type": "execute_result"
    }
   ],
   "source": [
    "np.exp(rn)"
   ]
  },
  {
   "cell_type": "code",
   "execution_count": 97,
   "id": "a63e0b43",
   "metadata": {},
   "outputs": [
    {
     "data": {
      "text/plain": [
       "7.38905609893065"
      ]
     },
     "execution_count": 97,
     "metadata": {},
     "output_type": "execute_result"
    }
   ],
   "source": [
    "np.exp(2)"
   ]
  },
  {
   "cell_type": "code",
   "execution_count": 98,
   "id": "c0db9f2d",
   "metadata": {},
   "outputs": [
    {
     "data": {
      "text/plain": [
       "1.0"
      ]
     },
     "execution_count": 98,
     "metadata": {},
     "output_type": "execute_result"
    }
   ],
   "source": [
    "np.exp(np.log(1))"
   ]
  },
  {
   "cell_type": "code",
   "execution_count": 99,
   "id": "dd68d828",
   "metadata": {},
   "outputs": [
    {
     "data": {
      "text/plain": [
       "2.0"
      ]
     },
     "execution_count": 99,
     "metadata": {},
     "output_type": "execute_result"
    }
   ],
   "source": [
    "np.log(np.exp(2))"
   ]
  },
  {
   "cell_type": "code",
   "execution_count": 105,
   "id": "786cf687",
   "metadata": {
    "collapsed": true
   },
   "outputs": [
    {
     "name": "stdout",
     "output_type": "stream",
     "text": [
      "10\n",
      "13\n",
      "[23, 4, 10]\n"
     ]
    },
    {
     "data": {
      "text/plain": [
       "array([23, 45, 10])"
      ]
     },
     "execution_count": 105,
     "metadata": {},
     "output_type": "execute_result"
    }
   ],
   "source": [
    "#vectorized functions in numpy\n",
    "def greater(a,b):\n",
    "    if a>b:\n",
    "        return a\n",
    "    else:return b\n",
    "    \n",
    "print(greater(10,4))\n",
    "print(greater(5,13))\n",
    "gr=greater([23,4,10],[4,45,3]) # [23,45,10]\n",
    "print(gr)\n",
    "g=np.vectorize(greater)\n",
    "g([23,4,10],[4,45,3])"
   ]
  },
  {
   "cell_type": "markdown",
   "id": "e8391b8c",
   "metadata": {},
   "source": [
    "#### Pandas\n",
    "- One of the most efficient modules in data science\n",
    "- Pandas stands for Panel Data\n",
    "- the data is arranged in the form of rows columns\n",
    "- 2 data structures\n",
    "    1. Series\n",
    "        - Sequential data is arranged either side by side or line by line\n",
    "        - pd.Series(data) is the function\n",
    "        - 1d structure\n",
    "    2. DataFrame\n",
    "        - Data can be organized in the form of rows & columns\n",
    "        - pd.DataFrame(data)\n",
    "        - 2d strcture\n",
    "- It is used for data analysis,data manipulation and cleaning\n",
    "- we will analyse the data,for any further modification and \n",
    "- Data Cleaning\n",
    "    - removes the null values"
   ]
  },
  {
   "cell_type": "code",
   "execution_count": 106,
   "id": "8e761b15",
   "metadata": {},
   "outputs": [],
   "source": [
    "#apply series on each python iterables/objects\n",
    "import pandas as pd"
   ]
  },
  {
   "cell_type": "code",
   "execution_count": 107,
   "id": "eec68693",
   "metadata": {},
   "outputs": [
    {
     "name": "stdout",
     "output_type": "stream",
     "text": [
      "0    Ruthu from APSSDC\n",
      "dtype: object\n"
     ]
    }
   ],
   "source": [
    "st='Ruthu from APSSDC'\n",
    "print(pd.Series(st)) #a user can see the index values"
   ]
  },
  {
   "cell_type": "code",
   "execution_count": 110,
   "id": "36bf04d3",
   "metadata": {
    "collapsed": true
   },
   "outputs": [
    {
     "name": "stdout",
     "output_type": "stream",
     "text": [
      "0     3\n",
      "1     4\n",
      "2     5\n",
      "3    10\n",
      "4     r\n",
      "5    34\n",
      "6     h\n",
      "dtype: object\n"
     ]
    }
   ],
   "source": [
    "tp=(3,4,5,10,'r',34,'h')\n",
    "print(pd.Series(tp))"
   ]
  },
  {
   "cell_type": "code",
   "execution_count": 112,
   "id": "3987611f",
   "metadata": {
    "collapsed": true
   },
   "outputs": [
    {
     "data": {
      "text/plain": [
       "3    sai tirumala\n",
       "4              90\n",
       "5            CSE4\n",
       "6              70\n",
       "dtype: object"
      ]
     },
     "execution_count": 112,
     "metadata": {},
     "output_type": "execute_result"
    }
   ],
   "source": [
    "#example with list\n",
    "li=['sai tirumala',90,'CSE4',70]\n",
    "pd.Series(li,index=[3,4,5,6])"
   ]
  },
  {
   "cell_type": "code",
   "execution_count": 113,
   "id": "86b7497d",
   "metadata": {
    "collapsed": true
   },
   "outputs": [
    {
     "ename": "TypeError",
     "evalue": "'set' type is unordered",
     "output_type": "error",
     "traceback": [
      "\u001b[1;31m---------------------------------------------------------------------------\u001b[0m",
      "\u001b[1;31mTypeError\u001b[0m                                 Traceback (most recent call last)",
      "\u001b[1;32m~\\AppData\\Local\\Temp\\ipykernel_33128\\2012788676.py\u001b[0m in \u001b[0;36m<module>\u001b[1;34m\u001b[0m\n\u001b[0;32m      1\u001b[0m \u001b[1;31m#example with set\u001b[0m\u001b[1;33m\u001b[0m\u001b[1;33m\u001b[0m\u001b[0m\n\u001b[0;32m      2\u001b[0m \u001b[0mS\u001b[0m\u001b[1;33m=\u001b[0m\u001b[1;33m{\u001b[0m\u001b[1;36m10\u001b[0m\u001b[1;33m,\u001b[0m\u001b[1;36m34\u001b[0m\u001b[1;33m,\u001b[0m\u001b[1;36m56\u001b[0m\u001b[1;33m,\u001b[0m\u001b[1;36m12\u001b[0m\u001b[1;33m,\u001b[0m\u001b[1;36m9\u001b[0m\u001b[1;33m,\u001b[0m\u001b[1;36m8\u001b[0m\u001b[1;33m}\u001b[0m\u001b[1;33m\u001b[0m\u001b[1;33m\u001b[0m\u001b[0m\n\u001b[1;32m----> 3\u001b[1;33m \u001b[0mpd\u001b[0m\u001b[1;33m.\u001b[0m\u001b[0mSeries\u001b[0m\u001b[1;33m(\u001b[0m\u001b[0mS\u001b[0m\u001b[1;33m)\u001b[0m\u001b[1;33m\u001b[0m\u001b[1;33m\u001b[0m\u001b[0m\n\u001b[0m",
      "\u001b[1;32mC:\\ProgramData\\Anaconda3\\lib\\site-packages\\pandas\\core\\series.py\u001b[0m in \u001b[0;36m__init__\u001b[1;34m(self, data, index, dtype, name, copy, fastpath)\u001b[0m\n\u001b[0;32m    449\u001b[0m                     \u001b[0mdata\u001b[0m \u001b[1;33m=\u001b[0m \u001b[0mdata\u001b[0m\u001b[1;33m.\u001b[0m\u001b[0mcopy\u001b[0m\u001b[1;33m(\u001b[0m\u001b[1;33m)\u001b[0m\u001b[1;33m\u001b[0m\u001b[1;33m\u001b[0m\u001b[0m\n\u001b[0;32m    450\u001b[0m             \u001b[1;32melse\u001b[0m\u001b[1;33m:\u001b[0m\u001b[1;33m\u001b[0m\u001b[1;33m\u001b[0m\u001b[0m\n\u001b[1;32m--> 451\u001b[1;33m                 \u001b[0mdata\u001b[0m \u001b[1;33m=\u001b[0m \u001b[0msanitize_array\u001b[0m\u001b[1;33m(\u001b[0m\u001b[0mdata\u001b[0m\u001b[1;33m,\u001b[0m \u001b[0mindex\u001b[0m\u001b[1;33m,\u001b[0m \u001b[0mdtype\u001b[0m\u001b[1;33m,\u001b[0m \u001b[0mcopy\u001b[0m\u001b[1;33m)\u001b[0m\u001b[1;33m\u001b[0m\u001b[1;33m\u001b[0m\u001b[0m\n\u001b[0m\u001b[0;32m    452\u001b[0m \u001b[1;33m\u001b[0m\u001b[0m\n\u001b[0;32m    453\u001b[0m                 \u001b[0mmanager\u001b[0m \u001b[1;33m=\u001b[0m \u001b[0mget_option\u001b[0m\u001b[1;33m(\u001b[0m\u001b[1;34m\"mode.data_manager\"\u001b[0m\u001b[1;33m)\u001b[0m\u001b[1;33m\u001b[0m\u001b[1;33m\u001b[0m\u001b[0m\n",
      "\u001b[1;32mC:\\ProgramData\\Anaconda3\\lib\\site-packages\\pandas\\core\\construction.py\u001b[0m in \u001b[0;36msanitize_array\u001b[1;34m(data, index, dtype, copy, raise_cast_failure, allow_2d)\u001b[0m\n\u001b[0;32m    582\u001b[0m         \u001b[1;32mif\u001b[0m \u001b[0misinstance\u001b[0m\u001b[1;33m(\u001b[0m\u001b[0mdata\u001b[0m\u001b[1;33m,\u001b[0m \u001b[1;33m(\u001b[0m\u001b[0mset\u001b[0m\u001b[1;33m,\u001b[0m \u001b[0mfrozenset\u001b[0m\u001b[1;33m)\u001b[0m\u001b[1;33m)\u001b[0m\u001b[1;33m:\u001b[0m\u001b[1;33m\u001b[0m\u001b[1;33m\u001b[0m\u001b[0m\n\u001b[0;32m    583\u001b[0m             \u001b[1;31m# Raise only for unordered sets, e.g., not for dict_keys\u001b[0m\u001b[1;33m\u001b[0m\u001b[1;33m\u001b[0m\u001b[0m\n\u001b[1;32m--> 584\u001b[1;33m             \u001b[1;32mraise\u001b[0m \u001b[0mTypeError\u001b[0m\u001b[1;33m(\u001b[0m\u001b[1;34mf\"'{type(data).__name__}' type is unordered\"\u001b[0m\u001b[1;33m)\u001b[0m\u001b[1;33m\u001b[0m\u001b[1;33m\u001b[0m\u001b[0m\n\u001b[0m\u001b[0;32m    585\u001b[0m \u001b[1;33m\u001b[0m\u001b[0m\n\u001b[0;32m    586\u001b[0m         \u001b[1;31m# materialize e.g. generators, convert e.g. tuples, abc.ValueView\u001b[0m\u001b[1;33m\u001b[0m\u001b[1;33m\u001b[0m\u001b[0m\n",
      "\u001b[1;31mTypeError\u001b[0m: 'set' type is unordered"
     ]
    }
   ],
   "source": [
    "#example with set\n",
    "S={10,34,56,12,9,8} \n",
    "pd.Series(S)"
   ]
  },
  {
   "cell_type": "code",
   "execution_count": 115,
   "id": "f135eae7",
   "metadata": {
    "collapsed": true
   },
   "outputs": [
    {
     "data": {
      "text/plain": [
       "{8, 9, 10, 12, 34, 56}"
      ]
     },
     "execution_count": 115,
     "metadata": {},
     "output_type": "execute_result"
    }
   ],
   "source": [
    "S"
   ]
  },
  {
   "cell_type": "code",
   "execution_count": 118,
   "id": "d7393efa",
   "metadata": {
    "collapsed": true
   },
   "outputs": [
    {
     "data": {
      "text/plain": [
       "clg        sai tirumala\n",
       "roll    [567, 452, 340]\n",
       "12                   45\n",
       "year                  4\n",
       "dtype: object"
      ]
     },
     "execution_count": 118,
     "metadata": {},
     "output_type": "execute_result"
    }
   ],
   "source": [
    "roll=[567,452,340]\n",
    "dic={'clg':'sai tirumala','roll':roll,12:45,'year':4}\n",
    "pd.Series(dic)#keys will be arranged as index"
   ]
  },
  {
   "cell_type": "code",
   "execution_count": 119,
   "id": "193f0664",
   "metadata": {},
   "outputs": [],
   "source": [
    "import numpy as np"
   ]
  },
  {
   "cell_type": "code",
   "execution_count": 124,
   "id": "142bc4b2",
   "metadata": {
    "collapsed": true
   },
   "outputs": [
    {
     "data": {
      "text/plain": [
       "0     10.0+0.0j\n",
       "1     11.0+0.0j\n",
       "2     12.0+0.0j\n",
       "3     13.0+0.0j\n",
       "4     14.0+0.0j\n",
       "5     15.0+0.0j\n",
       "6     16.0+0.0j\n",
       "7     17.0+0.0j\n",
       "8     18.0+0.0j\n",
       "9     19.0+0.0j\n",
       "10    20.0+0.0j\n",
       "11    21.0+0.0j\n",
       "12    22.0+0.0j\n",
       "13    23.0+0.0j\n",
       "14    24.0+0.0j\n",
       "15    25.0+0.0j\n",
       "16    26.0+0.0j\n",
       "17    27.0+0.0j\n",
       "18    28.0+0.0j\n",
       "19    29.0+0.0j\n",
       "20    30.0+0.0j\n",
       "21    31.0+0.0j\n",
       "22    32.0+0.0j\n",
       "23    33.0+0.0j\n",
       "dtype: complex128"
      ]
     },
     "execution_count": 124,
     "metadata": {},
     "output_type": "execute_result"
    }
   ],
   "source": [
    "first=np.arange(10,34)\n",
    "pd.Series(first,dtype=complex)"
   ]
  },
  {
   "cell_type": "code",
   "execution_count": 127,
   "id": "9a31f8f9",
   "metadata": {
    "collapsed": true
   },
   "outputs": [
    {
     "name": "stdout",
     "output_type": "stream",
     "text": [
      "1    504.0\n",
      "2    329.0\n",
      "3     59.0\n",
      "4    226.0\n",
      "5    229.0\n",
      "dtype: float64\n"
     ]
    }
   ],
   "source": [
    "#try with random array\n",
    "rn=np.random.randint(10,700,5)\n",
    "print(pd.Series(rn,dtype=float,index=[1,2,3,4,5]))"
   ]
  },
  {
   "cell_type": "code",
   "execution_count": 130,
   "id": "f6d5585b",
   "metadata": {
    "collapsed": true
   },
   "outputs": [
    {
     "data": {
      "text/plain": [
       "DatetimeIndex(['2022-10-10', '2022-10-11', '2022-10-12', '2022-10-13',\n",
       "               '2022-10-14', '2022-10-15', '2022-10-16', '2022-10-17',\n",
       "               '2022-10-18', '2022-10-19', '2022-10-20', '2022-10-21',\n",
       "               '2022-10-22', '2022-10-23', '2022-10-24', '2022-10-25',\n",
       "               '2022-10-26', '2022-10-27', '2022-10-28', '2022-10-29',\n",
       "               '2022-10-30'],\n",
       "              dtype='datetime64[ns]', freq='D')"
      ]
     },
     "execution_count": 130,
     "metadata": {},
     "output_type": "execute_result"
    }
   ],
   "source": [
    "#date range(year-month-date)\n",
    "pd.date_range('2022-10-10','2022-10-30')"
   ]
  },
  {
   "cell_type": "code",
   "execution_count": 132,
   "id": "df0a120b",
   "metadata": {
    "collapsed": true
   },
   "outputs": [
    {
     "data": {
      "text/plain": [
       "0   2023-01-01\n",
       "1   2023-01-02\n",
       "2   2023-01-03\n",
       "3   2023-01-04\n",
       "4   2023-01-05\n",
       "5   2023-01-06\n",
       "6   2023-01-07\n",
       "7   2023-01-08\n",
       "8   2023-01-09\n",
       "9   2023-01-10\n",
       "dtype: datetime64[ns]"
      ]
     },
     "execution_count": 132,
     "metadata": {},
     "output_type": "execute_result"
    }
   ],
   "source": [
    "dates=pd.date_range('2023-01-01',periods=10)\n",
    "pd.Series(dates)"
   ]
  },
  {
   "cell_type": "code",
   "execution_count": null,
   "id": "a123d112",
   "metadata": {},
   "outputs": [],
   "source": []
  }
 ],
 "metadata": {
  "kernelspec": {
   "display_name": "Python 3 (ipykernel)",
   "language": "python",
   "name": "python3"
  },
  "language_info": {
   "codemirror_mode": {
    "name": "ipython",
    "version": 3
   },
   "file_extension": ".py",
   "mimetype": "text/x-python",
   "name": "python",
   "nbconvert_exporter": "python",
   "pygments_lexer": "ipython3",
   "version": "3.9.13"
  }
 },
 "nbformat": 4,
 "nbformat_minor": 5
}
