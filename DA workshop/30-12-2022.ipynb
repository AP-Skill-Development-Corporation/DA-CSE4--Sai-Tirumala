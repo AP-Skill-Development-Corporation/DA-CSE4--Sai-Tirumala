{
 "cells": [
  {
   "cell_type": "markdown",
   "id": "ed7f9f24",
   "metadata": {},
   "source": [
    "### String\n",
    "-----------------------------------------------\n",
    "    - String is a collection of characters surrounded by single quotes,\n",
    "       double quotes and triple quotes\n",
    "    - String is immutable\n",
    "            - immutable means we can't modify the data once assigned\n",
    "    - index starts with '0'\n",
    "    - Anything within the quotes is called a string\n",
    "    "
   ]
  },
  {
   "cell_type": "code",
   "execution_count": 3,
   "id": "6a4f7665",
   "metadata": {
    "collapsed": true
   },
   "outputs": [
    {
     "name": "stdout",
     "output_type": "stream",
     "text": [
      "python\n",
      "<class 'str'>\n"
     ]
    }
   ],
   "source": [
    "s = \"python\"\n",
    "print(s)\n",
    "print(type(s))"
   ]
  },
  {
   "cell_type": "code",
   "execution_count": 6,
   "id": "c58492b8",
   "metadata": {},
   "outputs": [
    {
     "name": "stdout",
     "output_type": "stream",
     "text": [
      "p t n\n"
     ]
    }
   ],
   "source": [
    "# forward index/positive index\n",
    "print(s[0],s[2],s[5])"
   ]
  },
  {
   "cell_type": "code",
   "execution_count": 9,
   "id": "b9de6162",
   "metadata": {},
   "outputs": [
    {
     "name": "stdout",
     "output_type": "stream",
     "text": [
      "n h n\n"
     ]
    }
   ],
   "source": [
    "# negative index/backward index\n",
    "print(s[-1],s[-3],s[5])"
   ]
  },
  {
   "cell_type": "code",
   "execution_count": 13,
   "id": "f325901d",
   "metadata": {
    "collapsed": true
   },
   "outputs": [
    {
     "name": "stdout",
     "output_type": "stream",
     "text": [
      "pyth\n",
      "thon\n",
      "thon\n",
      "pyth\n"
     ]
    }
   ],
   "source": [
    "# python\n",
    "print(s[0:4])\n",
    "print(s[2:6])\n",
    "print(s[2:])\n",
    "print(s[:4])"
   ]
  },
  {
   "cell_type": "code",
   "execution_count": 14,
   "id": "e4159212",
   "metadata": {},
   "outputs": [
    {
     "data": {
      "text/plain": [
       "'pto'"
      ]
     },
     "execution_count": 14,
     "metadata": {},
     "output_type": "execute_result"
    }
   ],
   "source": [
    "# slicing --> Cutting into pieces (or) extracting the substrings from\n",
    "     #                                      the original string\n",
    "# python\n",
    "# pto\n",
    "s[0:6:2]"
   ]
  },
  {
   "cell_type": "code",
   "execution_count": 15,
   "id": "17885ac5",
   "metadata": {},
   "outputs": [
    {
     "name": "stdout",
     "output_type": "stream",
     "text": [
      "ph\n"
     ]
    }
   ],
   "source": [
    "# python     # ph\n",
    "print(s[0:6:3])"
   ]
  },
  {
   "cell_type": "code",
   "execution_count": 19,
   "id": "6380dcbc",
   "metadata": {
    "collapsed": true
   },
   "outputs": [
    {
     "name": "stdout",
     "output_type": "stream",
     "text": [
      "h w 8 ['h', 'k', 'o', 'o', 'p', 'r', 's', 'w']\n"
     ]
    },
    {
     "ename": "TypeError",
     "evalue": "unsupported operand type(s) for +: 'int' and 'str'",
     "output_type": "error",
     "traceback": [
      "\u001b[1;31m---------------------------------------------------------------------------\u001b[0m",
      "\u001b[1;31mTypeError\u001b[0m                                 Traceback (most recent call last)",
      "\u001b[1;32m~\\AppData\\Local\\Temp\\ipykernel_15096\\885688249.py\u001b[0m in \u001b[0;36m<module>\u001b[1;34m\u001b[0m\n\u001b[0;32m      2\u001b[0m \u001b[0ms1\u001b[0m \u001b[1;33m=\u001b[0m \u001b[1;34m\"workshop\"\u001b[0m\u001b[1;33m\u001b[0m\u001b[1;33m\u001b[0m\u001b[0m\n\u001b[0;32m      3\u001b[0m \u001b[0mprint\u001b[0m\u001b[1;33m(\u001b[0m\u001b[0mmin\u001b[0m\u001b[1;33m(\u001b[0m\u001b[0ms1\u001b[0m\u001b[1;33m)\u001b[0m\u001b[1;33m,\u001b[0m\u001b[0mmax\u001b[0m\u001b[1;33m(\u001b[0m\u001b[0ms1\u001b[0m\u001b[1;33m)\u001b[0m\u001b[1;33m,\u001b[0m\u001b[0mlen\u001b[0m\u001b[1;33m(\u001b[0m\u001b[0ms1\u001b[0m\u001b[1;33m)\u001b[0m\u001b[1;33m,\u001b[0m\u001b[0msorted\u001b[0m\u001b[1;33m(\u001b[0m\u001b[0ms1\u001b[0m\u001b[1;33m)\u001b[0m\u001b[1;33m)\u001b[0m\u001b[1;33m\u001b[0m\u001b[1;33m\u001b[0m\u001b[0m\n\u001b[1;32m----> 4\u001b[1;33m \u001b[0mprint\u001b[0m\u001b[1;33m(\u001b[0m\u001b[0msum\u001b[0m\u001b[1;33m(\u001b[0m\u001b[0ms1\u001b[0m\u001b[1;33m)\u001b[0m\u001b[1;33m)\u001b[0m\u001b[1;33m\u001b[0m\u001b[1;33m\u001b[0m\u001b[0m\n\u001b[0m",
      "\u001b[1;31mTypeError\u001b[0m: unsupported operand type(s) for +: 'int' and 'str'"
     ]
    }
   ],
   "source": [
    "# min(),max(),len(),sum(),sorted()\n",
    "s1 = \"workshop\"\n",
    "print(min(s1),max(s1),len(s1),sorted(s1))\n",
    "print(sum(s1))"
   ]
  },
  {
   "cell_type": "code",
   "execution_count": 22,
   "id": "bd6775f8",
   "metadata": {},
   "outputs": [
    {
     "name": "stdout",
     "output_type": "stream",
     "text": [
      "97 65 48\n"
     ]
    }
   ],
   "source": [
    "print(ord('a'),ord('A'),ord('0'))"
   ]
  },
  {
   "cell_type": "code",
   "execution_count": 25,
   "id": "13f64181",
   "metadata": {},
   "outputs": [
    {
     "name": "stdout",
     "output_type": "stream",
     "text": [
      "['__add__', '__class__', '__contains__', '__delattr__', '__dir__', '__doc__', '__eq__', '__format__', '__ge__', '__getattribute__', '__getitem__', '__getnewargs__', '__gt__', '__hash__', '__init__', '__init_subclass__', '__iter__', '__le__', '__len__', '__lt__', '__mod__', '__mul__', '__ne__', '__new__', '__reduce__', '__reduce_ex__', '__repr__', '__rmod__', '__rmul__', '__setattr__', '__sizeof__', '__str__', '__subclasshook__', 'capitalize', 'casefold', 'center', 'count', 'encode', 'endswith', 'expandtabs', 'find', 'format', 'format_map', 'index', 'isalnum', 'isalpha', 'isascii', 'isdecimal', 'isdigit', 'isidentifier', 'islower', 'isnumeric', 'isprintable', 'isspace', 'istitle', 'isupper', 'join', 'ljust', 'lower', 'lstrip', 'maketrans', 'partition', 'removeprefix', 'removesuffix', 'replace', 'rfind', 'rindex', 'rjust', 'rpartition', 'rsplit', 'rstrip', 'split', 'splitlines', 'startswith', 'strip', 'swapcase', 'title', 'translate', 'upper', 'zfill'] "
     ]
    }
   ],
   "source": [
    "print(dir(str),end=' ')"
   ]
  },
  {
   "cell_type": "code",
   "execution_count": 26,
   "id": "74e4d8a1",
   "metadata": {
    "collapsed": true
   },
   "outputs": [
    {
     "data": {
      "text/plain": [
       "'Python'"
      ]
     },
     "execution_count": 26,
     "metadata": {},
     "output_type": "execute_result"
    }
   ],
   "source": [
    "# capitalize()\n",
    "f = \"python\"\n",
    "f.capitalize()"
   ]
  },
  {
   "cell_type": "code",
   "execution_count": 27,
   "id": "d796ab7f",
   "metadata": {
    "collapsed": true
   },
   "outputs": [
    {
     "data": {
      "text/plain": [
       "2"
      ]
     },
     "execution_count": 27,
     "metadata": {},
     "output_type": "execute_result"
    }
   ],
   "source": [
    "# count()\n",
    "f1 = \"workshop\"\n",
    "f1.count('o')"
   ]
  },
  {
   "cell_type": "code",
   "execution_count": 28,
   "id": "1740b46a",
   "metadata": {},
   "outputs": [
    {
     "data": {
      "text/plain": [
       "'Good Afternoon'"
      ]
     },
     "execution_count": 28,
     "metadata": {},
     "output_type": "execute_result"
    }
   ],
   "source": [
    "# title()\n",
    "j = \"good afternoon\"\n",
    "j.title()"
   ]
  },
  {
   "cell_type": "code",
   "execution_count": 29,
   "id": "50e5fdf7",
   "metadata": {},
   "outputs": [
    {
     "data": {
      "text/plain": [
       "'python'"
      ]
     },
     "execution_count": 29,
     "metadata": {},
     "output_type": "execute_result"
    }
   ],
   "source": [
    "# casefold()\n",
    "j1 = \"PYthON\"\n",
    "j1.casefold()"
   ]
  },
  {
   "cell_type": "code",
   "execution_count": 33,
   "id": "b12e7130",
   "metadata": {},
   "outputs": [
    {
     "name": "stdout",
     "output_type": "stream",
     "text": [
      "True False\n",
      "True False\n"
     ]
    }
   ],
   "source": [
    "# endswith(),startswith()\n",
    "h1 = \"abcdef\"\n",
    "print(h1.startswith('a'),h1.startswith('b'))\n",
    "print(h1.endswith('f'),h1.endswith('a'))"
   ]
  },
  {
   "cell_type": "code",
   "execution_count": 42,
   "id": "cd789636",
   "metadata": {},
   "outputs": [
    {
     "name": "stdout",
     "output_type": "stream",
     "text": [
      "0\n",
      "14\n",
      "7\n",
      "10\n"
     ]
    }
   ],
   "source": [
    "# index(),rindex()\n",
    "b = \"python workshop\"\n",
    "print(b.index('p'))\n",
    "print(b.rindex('p'))\n",
    "print(b.index('w'))\n",
    "print(b.index('k'))\n",
    "# print(b.index('z'))"
   ]
  },
  {
   "cell_type": "code",
   "execution_count": 41,
   "id": "f8399330",
   "metadata": {
    "collapsed": true
   },
   "outputs": [
    {
     "name": "stdout",
     "output_type": "stream",
     "text": [
      "0\n",
      "14\n",
      "-1\n"
     ]
    }
   ],
   "source": [
    "# find(),rfind()\n",
    "print(b.find('p'))\n",
    "print(b.rfind('p'))\n",
    "print(b.find('z'))"
   ]
  },
  {
   "cell_type": "code",
   "execution_count": 44,
   "id": "84b035c4",
   "metadata": {
    "collapsed": true
   },
   "outputs": [
    {
     "name": "stdout",
     "output_type": "stream",
     "text": [
      "python\n",
      "PYTHON\n"
     ]
    }
   ],
   "source": [
    "# upper(),lower()\n",
    "s1,s2=\"PYTHON\",\"python\"\n",
    "print(s1.lower())\n",
    "print(s2.upper())"
   ]
  },
  {
   "cell_type": "code",
   "execution_count": 45,
   "id": "8a254b5a",
   "metadata": {},
   "outputs": [
    {
     "name": "stdout",
     "output_type": "stream",
     "text": [
      "pytHON\n"
     ]
    }
   ],
   "source": [
    "# swapcase()\n",
    "b1 = \"PYThon\"\n",
    "print(b1.swapcase())"
   ]
  },
  {
   "cell_type": "code",
   "execution_count": 49,
   "id": "176542d1",
   "metadata": {},
   "outputs": [
    {
     "data": {
      "text/plain": [
       "'       PYThon       '"
      ]
     },
     "execution_count": 49,
     "metadata": {},
     "output_type": "execute_result"
    }
   ],
   "source": [
    "# center()\n",
    "b1 = \"PYThon\"\n",
    "b1.center(20)"
   ]
  },
  {
   "cell_type": "code",
   "execution_count": 51,
   "id": "b109dd92",
   "metadata": {
    "collapsed": true
   },
   "outputs": [
    {
     "name": "stdout",
     "output_type": "stream",
     "text": [
      "True\n",
      "True\n"
     ]
    }
   ],
   "source": [
    "# isalpha(),isalnum()\n",
    "j2 = \"vanitha\"\n",
    "print(j2.isalpha())\n",
    "j3 = \"workshop123\"\n",
    "print(j3.isalnum())"
   ]
  },
  {
   "cell_type": "code",
   "execution_count": 52,
   "id": "b592c724",
   "metadata": {
    "collapsed": true
   },
   "outputs": [
    {
     "name": "stdout",
     "output_type": "stream",
     "text": [
      "True\n"
     ]
    }
   ],
   "source": [
    "# istitle()\n",
    "n1 = \"Good Afternoon\"\n",
    "print(n1.istitle())"
   ]
  },
  {
   "cell_type": "code",
   "execution_count": 56,
   "id": "b56679c1",
   "metadata": {
    "collapsed": true
   },
   "outputs": [
    {
     "name": "stdout",
     "output_type": "stream",
     "text": [
      "True\n",
      "True\n"
     ]
    }
   ],
   "source": [
    "# isdigit(),isspace()\n",
    "v = \"376\"\n",
    "v1 = \" \"\n",
    "print(v.isdigit())\n",
    "print(v1.isspace())"
   ]
  },
  {
   "cell_type": "code",
   "execution_count": 57,
   "id": "df8f6ece",
   "metadata": {},
   "outputs": [
    {
     "data": {
      "text/plain": [
       "['i', 'am', 'vanitha', 'from', 'apssdc']"
      ]
     },
     "execution_count": 57,
     "metadata": {},
     "output_type": "execute_result"
    }
   ],
   "source": [
    "# split()\n",
    "k = \"i am vanitha from apssdc\"\n",
    "k.split()"
   ]
  },
  {
   "cell_type": "code",
   "execution_count": 61,
   "id": "c4a86922",
   "metadata": {
    "collapsed": true
   },
   "outputs": [
    {
     "name": "stdout",
     "output_type": "stream",
     "text": [
      "a@p@s@s@d@c\n"
     ]
    }
   ],
   "source": [
    "# join()\n",
    "hf = \"apssdc\"\n",
    "z = \"@\".join(hf)\n",
    "print(z)"
   ]
  },
  {
   "cell_type": "code",
   "execution_count": 64,
   "id": "08a50881",
   "metadata": {},
   "outputs": [
    {
     "name": "stdout",
     "output_type": "stream",
     "text": [
      "['hi h@el', 'l@o go', 'od a@fter', 'n@oon']\n",
      "['hi h', 'el#l', 'o go#od a', 'fter#n', 'oon']\n"
     ]
    }
   ],
   "source": [
    "r = \"hi h@el#l@o go#od a@fter#n@oon\"\n",
    "print(r.split(\"#\"))\n",
    "print(r.split(\"@\"))"
   ]
  },
  {
   "cell_type": "code",
   "execution_count": 67,
   "id": "e506f27e",
   "metadata": {
    "collapsed": true
   },
   "outputs": [
    {
     "name": "stdout",
     "output_type": "stream",
     "text": [
      "jupyter\n",
      "book\n",
      "pencil\n"
     ]
    }
   ],
   "source": [
    "# strip(),lstrip(),rstrip()\n",
    "q1=\"     jupyter      \"\n",
    "q2=\"    book\"\n",
    "q3=\"pencil     \"\n",
    "print(q1.strip())\n",
    "print(q2.lstrip())\n",
    "print(q3.rstrip())"
   ]
  },
  {
   "cell_type": "code",
   "execution_count": 68,
   "id": "da319c36",
   "metadata": {},
   "outputs": [
    {
     "data": {
      "text/plain": [
       "'zbcd'"
      ]
     },
     "execution_count": 68,
     "metadata": {},
     "output_type": "execute_result"
    }
   ],
   "source": [
    "# replace()\n",
    "z1 = \"abcd\"\n",
    "z1.replace('a','z')"
   ]
  },
  {
   "cell_type": "code",
   "execution_count": 69,
   "id": "ba77b710",
   "metadata": {},
   "outputs": [
    {
     "data": {
      "text/plain": [
       "'0000000000000000abcd'"
      ]
     },
     "execution_count": 69,
     "metadata": {},
     "output_type": "execute_result"
    }
   ],
   "source": [
    "# zfill()\n",
    "z1.zfill(20)"
   ]
  },
  {
   "cell_type": "code",
   "execution_count": 71,
   "id": "c73459eb",
   "metadata": {
    "collapsed": true
   },
   "outputs": [
    {
     "name": "stdout",
     "output_type": "stream",
     "text": [
      "c r e a t e "
     ]
    }
   ],
   "source": [
    "# static\n",
    "d = \"create\"\n",
    "for i in d:\n",
    "    print(i,end=' ')"
   ]
  },
  {
   "cell_type": "code",
   "execution_count": 72,
   "id": "72e4f24d",
   "metadata": {
    "collapsed": true
   },
   "outputs": [
    {
     "name": "stdout",
     "output_type": "stream",
     "text": [
      "Enter any string: workshop\n",
      "w o r k s h o p "
     ]
    }
   ],
   "source": [
    "# dynamic\n",
    "m = input('Enter any string: ')\n",
    "for j in m:\n",
    "    print(j,end=' ')"
   ]
  },
  {
   "cell_type": "code",
   "execution_count": 73,
   "id": "68d38105",
   "metadata": {
    "collapsed": true
   },
   "outputs": [
    {
     "data": {
      "text/plain": [
       "'create'"
      ]
     },
     "execution_count": 73,
     "metadata": {},
     "output_type": "execute_result"
    }
   ],
   "source": [
    "d"
   ]
  },
  {
   "cell_type": "code",
   "execution_count": 74,
   "id": "dc48597f",
   "metadata": {},
   "outputs": [
    {
     "data": {
      "text/plain": [
       "'etaerc'"
      ]
     },
     "execution_count": 74,
     "metadata": {},
     "output_type": "execute_result"
    }
   ],
   "source": [
    "d[::-1]"
   ]
  },
  {
   "cell_type": "code",
   "execution_count": 77,
   "id": "e8fe8c2b",
   "metadata": {
    "collapsed": true
   },
   "outputs": [
    {
     "name": "stdout",
     "output_type": "stream",
     "text": [
      "Enter any string: cat\n",
      "Not Palindrom\n"
     ]
    }
   ],
   "source": [
    "# palindrom\n",
    "j1 = input('Enter any string: ')\n",
    "if(j1==j1[::-1]):\n",
    "    print(\"Palindrom\")\n",
    "else:\n",
    "    print(\"Not Palindrom\")"
   ]
  },
  {
   "cell_type": "code",
   "execution_count": 78,
   "id": "f9edab3b",
   "metadata": {},
   "outputs": [
    {
     "name": "stdout",
     "output_type": "stream",
     "text": [
      "Uppercase Characters are :  ASS\n",
      "Lowercase Characters are:  psc\n",
      "Digits are:  123\n",
      "Special Characters are : @%*\n"
     ]
    }
   ],
   "source": [
    "# i/p: \"ApSsSc@%*123\"\n",
    "n = \"ApSsSc@%*123\"\n",
    "up=lw=dg=sp=\"\"\n",
    "for i in n:\n",
    "    if(i.isupper()):\n",
    "        up=up+i\n",
    "    elif(i.islower()):\n",
    "        lw=lw+i\n",
    "    elif(i.isdigit()):\n",
    "        dg=dg+i\n",
    "    else:\n",
    "        sp=sp+i\n",
    "print(\"Uppercase Characters are : \",up)\n",
    "print(\"Lowercase Characters are: \",lw)\n",
    "print(\"Digits are: \",dg)\n",
    "print(\"Special Characters are :\",sp)"
   ]
  },
  {
   "cell_type": "markdown",
   "id": "62508136",
   "metadata": {},
   "source": [
    "#### Data Structures\n",
    "    - A way of organizing the data is called data structure\n",
    "    \n",
    "    - 4 types of DS\n",
    "        - tuple\n",
    "        - list\n",
    "        - set\n",
    "        - dictionary"
   ]
  },
  {
   "cell_type": "markdown",
   "id": "58066e74",
   "metadata": {},
   "source": [
    "### Tuple()\n",
    "  \n",
    "  - It is used to store multiple items in a single variable\n",
    "  - It is immutable\n",
    "  - It can store hetrogeneous data\n",
    "  - It can allow the duplicates\n",
    "  - It is represented by (), values can be separted by ,(comma)"
   ]
  },
  {
   "cell_type": "code",
   "execution_count": 79,
   "id": "be8b876d",
   "metadata": {},
   "outputs": [
    {
     "name": "stdout",
     "output_type": "stream",
     "text": [
      "()\n",
      "<class 'tuple'>\n"
     ]
    }
   ],
   "source": [
    "# empty tuple\n",
    "t = ()\n",
    "print(t)\n",
    "print(type(t))"
   ]
  },
  {
   "cell_type": "code",
   "execution_count": 80,
   "id": "46cac6ca",
   "metadata": {},
   "outputs": [
    {
     "data": {
      "text/plain": [
       "(5, 6, 'a', 9.7, 'b')"
      ]
     },
     "execution_count": 80,
     "metadata": {},
     "output_type": "execute_result"
    }
   ],
   "source": [
    "t1 = (5,6,\"a\",9.7,\"b\")\n",
    "t1"
   ]
  },
  {
   "cell_type": "code",
   "execution_count": 83,
   "id": "7d03999d",
   "metadata": {},
   "outputs": [
    {
     "name": "stdout",
     "output_type": "stream",
     "text": [
      "5 b 9.7\n"
     ]
    }
   ],
   "source": [
    "print(t1[0],t1[-1],t1[3])"
   ]
  },
  {
   "cell_type": "code",
   "execution_count": 84,
   "id": "142663bf",
   "metadata": {},
   "outputs": [
    {
     "data": {
      "text/plain": [
       "('b', 9.7, 'a', 6, 5)"
      ]
     },
     "execution_count": 84,
     "metadata": {},
     "output_type": "execute_result"
    }
   ],
   "source": [
    "t1[::-1]"
   ]
  },
  {
   "cell_type": "code",
   "execution_count": 87,
   "id": "d28477ff",
   "metadata": {},
   "outputs": [
    {
     "name": "stdout",
     "output_type": "stream",
     "text": [
      "22 1.8 47.8\n",
      "[1.8, 3, 5, 7, 9, 22] 6\n"
     ]
    }
   ],
   "source": [
    "# min(),max(),sum(),len(),sorted()\n",
    "t2 = (3,5,7,1.8,9,22)\n",
    "print(max(t2),min(t2),sum(t2))\n",
    "print(sorted(t2),len(t2))"
   ]
  },
  {
   "cell_type": "code",
   "execution_count": 89,
   "id": "b7542ec4",
   "metadata": {},
   "outputs": [
    {
     "name": "stdout",
     "output_type": "stream",
     "text": [
      "['__add__', '__class__', '__class_getitem__', '__contains__', '__delattr__', '__dir__', '__doc__', '__eq__', '__format__', '__ge__', '__getattribute__', '__getitem__', '__getnewargs__', '__gt__', '__hash__', '__init__', '__init_subclass__', '__iter__', '__le__', '__len__', '__lt__', '__mul__', '__ne__', '__new__', '__reduce__', '__reduce_ex__', '__repr__', '__rmul__', '__setattr__', '__sizeof__', '__str__', '__subclasshook__', 'count', 'index'] "
     ]
    }
   ],
   "source": [
    "print(dir(tuple),end=' ')"
   ]
  },
  {
   "cell_type": "code",
   "execution_count": 93,
   "id": "1747b696",
   "metadata": {
    "collapsed": true
   },
   "outputs": [
    {
     "name": "stdout",
     "output_type": "stream",
     "text": [
      "6\n",
      "1\n",
      "9\n",
      "0\n"
     ]
    }
   ],
   "source": [
    "# count(),index()\n",
    "t2 = (3,5,3,3,3,3,3,7,1.8,9,22)\n",
    "print(t2.count(3))\n",
    "print(t2.count(9))\n",
    "print(t2.index(9))\n",
    "print(t2.index(3))"
   ]
  },
  {
   "cell_type": "markdown",
   "id": "09447cd7",
   "metadata": {},
   "source": [
    "#### list()\n",
    "    - It is used to store multiple items in a single variable\n",
    "    - It is a collection which is ordered and changable\n",
    "    - It is mutable\n",
    "    - It can store hetrogeneous data\n",
    "    - It can allow the duplicates\n",
    "    - It is represented by [], values can be separated by ,(comma)"
   ]
  },
  {
   "cell_type": "code",
   "execution_count": 94,
   "id": "70b26f43",
   "metadata": {},
   "outputs": [
    {
     "name": "stdout",
     "output_type": "stream",
     "text": [
      "[] <class 'list'>\n"
     ]
    }
   ],
   "source": [
    "# empty list()\n",
    "li = []\n",
    "print(li,type(li))"
   ]
  },
  {
   "cell_type": "code",
   "execution_count": 95,
   "id": "a91a5785",
   "metadata": {},
   "outputs": [
    {
     "data": {
      "text/plain": [
       "[3, 4, 9.4, 'work', 'b', 23, 4.5]"
      ]
     },
     "execution_count": 95,
     "metadata": {},
     "output_type": "execute_result"
    }
   ],
   "source": [
    "li = [3,4,9.4,\"work\",\"b\",23,4.5]\n",
    "li"
   ]
  },
  {
   "cell_type": "code",
   "execution_count": 98,
   "id": "2c5b4e61",
   "metadata": {},
   "outputs": [
    {
     "name": "stdout",
     "output_type": "stream",
     "text": [
      "9.4 23 4.5\n"
     ]
    }
   ],
   "source": [
    "print(li[2],li[5],li[-1])"
   ]
  },
  {
   "cell_type": "code",
   "execution_count": 99,
   "id": "316cfe47",
   "metadata": {},
   "outputs": [
    {
     "name": "stdout",
     "output_type": "stream",
     "text": [
      "[4.5, 23, 'b', 'work', 9.4, 4, 3]\n"
     ]
    }
   ],
   "source": [
    "print(li[::-1])"
   ]
  },
  {
   "cell_type": "code",
   "execution_count": 102,
   "id": "69e60e17",
   "metadata": {
    "collapsed": true
   },
   "outputs": [
    {
     "name": "stdout",
     "output_type": "stream",
     "text": [
      "3 67 144.9 7\n",
      "[3, 4, 4.5, 9.4, 23, 34, 67]\n"
     ]
    }
   ],
   "source": [
    "li1 = [3, 4, 9.4, 34, 67, 23, 4.5]\n",
    "print(min(li1),max(li1),sum(li1),len(li1))\n",
    "print(sorted(li1))"
   ]
  },
  {
   "cell_type": "code",
   "execution_count": 105,
   "id": "4e764553",
   "metadata": {},
   "outputs": [
    {
     "name": "stdout",
     "output_type": "stream",
     "text": [
      "[56, 22, 45] 22\n"
     ]
    }
   ],
   "source": [
    "li2 = [4,5,2,[56,22,45],5.7,2.9]\n",
    "print(li2[3],li2[3][1])"
   ]
  },
  {
   "cell_type": "code",
   "execution_count": null,
   "id": "87c351c5",
   "metadata": {},
   "outputs": [],
   "source": []
  }
 ],
 "metadata": {
  "kernelspec": {
   "display_name": "Python 3 (ipykernel)",
   "language": "python",
   "name": "python3"
  },
  "language_info": {
   "codemirror_mode": {
    "name": "ipython",
    "version": 3
   },
   "file_extension": ".py",
   "mimetype": "text/x-python",
   "name": "python",
   "nbconvert_exporter": "python",
   "pygments_lexer": "ipython3",
   "version": "3.9.13"
  }
 },
 "nbformat": 4,
 "nbformat_minor": 5
}
