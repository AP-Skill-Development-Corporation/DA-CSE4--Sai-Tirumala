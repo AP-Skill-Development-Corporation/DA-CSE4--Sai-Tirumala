{
 "cells": [
  {
   "cell_type": "markdown",
   "id": "2dc49e4d",
   "metadata": {},
   "source": [
    "# Day Objectives\n",
    "- nested if\n",
    "- loops\n",
    "    - for loop\n",
    "    - while loop"
   ]
  },
  {
   "cell_type": "code",
   "execution_count": null,
   "id": "79be427f",
   "metadata": {},
   "outputs": [],
   "source": [
    "Syntax for nested if statement\n",
    "----------------------------------\n",
    "if(condition):\n",
    "    statements\n",
    "    if(condition):\n",
    "        statement\n",
    "    else:\n",
    "        statement\n",
    "else:\n",
    "    statement"
   ]
  },
  {
   "cell_type": "code",
   "execution_count": null,
   "id": "1091f0bd",
   "metadata": {},
   "outputs": [],
   "source": [
    "# i/p : 4\n",
    "        even\n",
    "        >10---> square\n",
    "        <10---> cube\n",
    "        \n",
    "# i/p: 7\n",
    "# o/p: odd"
   ]
  },
  {
   "cell_type": "code",
   "execution_count": 3,
   "id": "f40706be",
   "metadata": {
    "collapsed": true
   },
   "outputs": [
    {
     "name": "stdout",
     "output_type": "stream",
     "text": [
      "Enter any number: 4\n",
      "Even\n",
      "64\n"
     ]
    }
   ],
   "source": [
    "num = int(input('Enter any number: '))\n",
    "if(num%2==0):\n",
    "    print(\"Even\")\n",
    "    if(num>10):\n",
    "        print(num**2)\n",
    "    else:\n",
    "        print(num**3)\n",
    "else:\n",
    "    print(\"Odd\")"
   ]
  },
  {
   "cell_type": "code",
   "execution_count": null,
   "id": "2b11a822",
   "metadata": {},
   "outputs": [],
   "source": [
    "# Loops\n",
    "    - for loop\n",
    "    - while loop"
   ]
  },
  {
   "cell_type": "markdown",
   "id": "2defe310",
   "metadata": {},
   "source": [
    "- for loop is used when we know the number of iterations\n",
    "- while loop is used when we don't know the number of iterations"
   ]
  },
  {
   "cell_type": "code",
   "execution_count": null,
   "id": "096d4430",
   "metadata": {},
   "outputs": [],
   "source": [
    "Syntax for for loop \n",
    "-------------------------\n",
    "for value in range(start,end,step_count):\n",
    "    statements\n",
    "    "
   ]
  },
  {
   "cell_type": "code",
   "execution_count": 11,
   "id": "44e14de7",
   "metadata": {},
   "outputs": [
    {
     "name": "stdout",
     "output_type": "stream",
     "text": [
      "1 2 3 4 5 6 7 8 9 10 "
     ]
    }
   ],
   "source": [
    "# printing 1 to 10 numbers using for loop\n",
    "for i in range(1,11,1):\n",
    "    print(i,end=' ')"
   ]
  },
  {
   "cell_type": "code",
   "execution_count": 9,
   "id": "d6913e58",
   "metadata": {},
   "outputs": [
    {
     "name": "stdout",
     "output_type": "stream",
     "text": [
      "2 4 6 8 10 "
     ]
    }
   ],
   "source": [
    "# 2 4 6 8 10\n",
    "for i in range(2,11,2):\n",
    "    print(i,end=' ')"
   ]
  },
  {
   "cell_type": "code",
   "execution_count": 7,
   "id": "eb3e25bd",
   "metadata": {},
   "outputs": [
    {
     "name": "stdout",
     "output_type": "stream",
     "text": [
      "1 3 5 7 9 "
     ]
    }
   ],
   "source": [
    "# 1 3 5 7 9\n",
    "for k in range(1,10,2):\n",
    "    print(k,end=' ')"
   ]
  },
  {
   "cell_type": "code",
   "execution_count": 10,
   "id": "5e9ad390",
   "metadata": {},
   "outputs": [
    {
     "name": "stdout",
     "output_type": "stream",
     "text": [
      "10 9 8 7 6 5 4 3 2 1 "
     ]
    }
   ],
   "source": [
    "# 10 9 8 7 6 5 4 3 2 1\n",
    "for i in range(10,0,-1):\n",
    "    print(i,end=' ')"
   ]
  },
  {
   "cell_type": "code",
   "execution_count": 12,
   "id": "9c74918b",
   "metadata": {},
   "outputs": [
    {
     "name": "stdout",
     "output_type": "stream",
     "text": [
      "10 8 6 4 2 "
     ]
    }
   ],
   "source": [
    "# 10 8 6 4 2\n",
    "for k in range(10,0,-2):\n",
    "    print(k,end=' ')"
   ]
  },
  {
   "cell_type": "code",
   "execution_count": 13,
   "id": "11e2b70e",
   "metadata": {},
   "outputs": [
    {
     "name": "stdout",
     "output_type": "stream",
     "text": [
      "0 1 2 3 4 5 6 7 8 9 "
     ]
    }
   ],
   "source": [
    "for i in range(10):\n",
    "    print(i,end=' ')"
   ]
  },
  {
   "cell_type": "code",
   "execution_count": 15,
   "id": "0463619f",
   "metadata": {
    "collapsed": true
   },
   "outputs": [
    {
     "name": "stdout",
     "output_type": "stream",
     "text": [
      "vanitha vanitha vanitha vanitha vanitha vanitha vanitha vanitha vanitha vanitha vanitha vanitha vanitha vanitha vanitha vanitha vanitha vanitha vanitha vanitha vanitha vanitha vanitha vanitha vanitha vanitha vanitha vanitha vanitha vanitha vanitha vanitha vanitha vanitha vanitha vanitha vanitha vanitha vanitha vanitha vanitha vanitha vanitha vanitha vanitha vanitha vanitha vanitha vanitha vanitha vanitha vanitha vanitha vanitha vanitha vanitha vanitha vanitha vanitha vanitha vanitha vanitha vanitha vanitha vanitha vanitha vanitha vanitha vanitha vanitha vanitha vanitha vanitha vanitha vanitha vanitha vanitha vanitha vanitha vanitha vanitha vanitha vanitha vanitha vanitha vanitha vanitha vanitha vanitha vanitha vanitha vanitha vanitha vanitha vanitha vanitha vanitha vanitha vanitha vanitha "
     ]
    }
   ],
   "source": [
    "for i in range(100):\n",
    "    print(\"vanitha\",end=' ')"
   ]
  },
  {
   "cell_type": "code",
   "execution_count": 17,
   "id": "ee36ca54",
   "metadata": {
    "collapsed": true
   },
   "outputs": [
    {
     "name": "stdout",
     "output_type": "stream",
     "text": [
      "Starting range: 30\n",
      "Ending range: 100\n",
      "Enter stepcount: 2\n",
      "30 32 34 36 38 40 42 44 46 48 50 52 54 56 58 60 62 64 66 68 70 72 74 76 78 80 82 84 86 88 90 92 94 96 98 "
     ]
    }
   ],
   "source": [
    "s,e,st_c=int(input('Starting range: ')),int(input('Ending range: ')),int(input('Enter stepcount: '))\n",
    "for i in range(s,e,st_c):\n",
    "    print(i,end=' ')"
   ]
  },
  {
   "cell_type": "code",
   "execution_count": 22,
   "id": "12326c97",
   "metadata": {
    "collapsed": true
   },
   "outputs": [
    {
     "name": "stdout",
     "output_type": "stream",
     "text": [
      "Total=  55\n"
     ]
    }
   ],
   "source": [
    "# 1 to 10 numbers total = 55\n",
    "t=0\n",
    "for i in range(1,11):\n",
    "    t=t+i\n",
    "print(\"Total= \",t)"
   ]
  },
  {
   "cell_type": "code",
   "execution_count": 25,
   "id": "c894e13c",
   "metadata": {},
   "outputs": [
    {
     "name": "stdout",
     "output_type": "stream",
     "text": [
      "6\n",
      "factorial =  720\n"
     ]
    }
   ],
   "source": [
    "# factorial of any number\n",
    " # i/p: 5\n",
    " # o/p: 120\n",
    "# 5*4*3*2*1       1*2*3*4*5\n",
    "n = int(input())\n",
    "f = 1\n",
    "for i in range(1,n+1):\n",
    "    f=f*i\n",
    "print(\"factorial = \",f)"
   ]
  },
  {
   "cell_type": "code",
   "execution_count": 30,
   "id": "1ec5af70",
   "metadata": {
    "collapsed": true
   },
   "outputs": [
    {
     "name": "stdout",
     "output_type": "stream",
     "text": [
      "10000\n",
      "1 2 4 5 8 10 16 20 25 40 50 80 100 125 200 250 400 500 625 1000 1250 2000 2500 5000 10000 "
     ]
    }
   ],
   "source": [
    "# factors of any number\n",
    "# 10 ---> 1 2 5 10\n",
    "n = int(input())\n",
    "for i in range(1,n+1):\n",
    "    if(n%i==0):\n",
    "        print(i,end=' ')"
   ]
  },
  {
   "cell_type": "code",
   "execution_count": 33,
   "id": "d4dd312a",
   "metadata": {
    "collapsed": true
   },
   "outputs": [
    {
     "name": "stdout",
     "output_type": "stream",
     "text": [
      "7\n",
      "Factors count:  2\n",
      "Prime Number\n"
     ]
    }
   ],
   "source": [
    "# prime number\n",
    "# 3 = 1,3   5 = 1,5   7 = 1,7 \n",
    "num = int(input())\n",
    "f_count=0\n",
    "for i in range(1,num+1):\n",
    "    if(num%i==0):\n",
    "        f_count=f_count+1\n",
    "print(\"Factors count: \",f_count)\n",
    "if(f_count==2):\n",
    "    print(\"Prime Number\")\n",
    "else:\n",
    "    print(\"Not a Prime Number\")"
   ]
  },
  {
   "cell_type": "code",
   "execution_count": 37,
   "id": "543a3610",
   "metadata": {
    "collapsed": true
   },
   "outputs": [
    {
     "name": "stdout",
     "output_type": "stream",
     "text": [
      "28\n",
      "Factors sum =  28\n",
      "Perfect Number\n"
     ]
    }
   ],
   "source": [
    "# perfect number\n",
    "# given number = sum of the factors except itself factor\n",
    "# 6 = 1 2 3 6 = 1+2+3 = 6   6==6\n",
    "n = int(input())\n",
    "f_sum=0\n",
    "for k in range(1,n):\n",
    "    if(n%k==0):\n",
    "        f_sum=f_sum+k\n",
    "print(\"Factors sum = \",f_sum)\n",
    "if(f_sum==n):\n",
    "    print(\"Perfect Number\")\n",
    "else:\n",
    "    print(\"Not perfect number\")"
   ]
  },
  {
   "cell_type": "markdown",
   "id": "ec24ab5d",
   "metadata": {},
   "source": [
    "- while loop\n",
    "    - It is used to execute a block of code repeatedly until a particular\n",
    "       condition is satisfied\n",
    "- Syntax for while loop\n",
    "------------------------------\n",
    "    initialization\n",
    "    while(condition):\n",
    "       statements\n",
    "       increment/decrement"
   ]
  },
  {
   "cell_type": "code",
   "execution_count": 38,
   "id": "903d6149",
   "metadata": {
    "collapsed": true
   },
   "outputs": [
    {
     "name": "stdout",
     "output_type": "stream",
     "text": [
      "1 2 3 4 5 6 7 8 9 10 "
     ]
    }
   ],
   "source": [
    "# 1 to 10 numbers printing using while loop\n",
    "i=1\n",
    "while(i<=10):\n",
    "    print(i,end=' ')\n",
    "    i=i+1"
   ]
  },
  {
   "cell_type": "code",
   "execution_count": 40,
   "id": "6c3380b8",
   "metadata": {
    "collapsed": true
   },
   "outputs": [
    {
     "name": "stdout",
     "output_type": "stream",
     "text": [
      "10 9 8 7 6 5 4 3 2 1 "
     ]
    }
   ],
   "source": [
    "# 10 to 1 numbers printing\n",
    "i=10\n",
    "while(i>=1):\n",
    "    print(i,end=' ')\n",
    "    i=i-1"
   ]
  },
  {
   "cell_type": "code",
   "execution_count": 41,
   "id": "f70a0092",
   "metadata": {
    "collapsed": true
   },
   "outputs": [
    {
     "name": "stdout",
     "output_type": "stream",
     "text": [
      "Total=  55\n"
     ]
    }
   ],
   "source": [
    "i=1\n",
    "t=0\n",
    "while(i<=10):\n",
    "    t=t+i\n",
    "    i=i+1\n",
    "print(\"Total= \",t)"
   ]
  },
  {
   "cell_type": "code",
   "execution_count": 45,
   "id": "143815ce",
   "metadata": {
    "collapsed": true
   },
   "outputs": [
    {
     "name": "stdout",
     "output_type": "stream",
     "text": [
      "8347584\n",
      "Reverse =  4857438\n"
     ]
    }
   ],
   "source": [
    "# i/p: 389\n",
    "# o/p: 983\n",
    "num = int(input())  # 389\n",
    "rev=0  # 0\n",
    "while(num>0): # 389>0(T) 38>0(T) 3>0(t) 0>0(F)\n",
    "    r=num%10  # 389%10=9 38%10=8 3%10=3\n",
    "    rev=rev*10+r  # 0*10+9=9 9*10+8=98 98*10+3=983\n",
    "    num=num//10  # 389//10=38 38//10=3 3//10=0\n",
    "print(\"Reverse = \",rev)"
   ]
  },
  {
   "cell_type": "code",
   "execution_count": 47,
   "id": "510f7399",
   "metadata": {
    "collapsed": true
   },
   "outputs": [
    {
     "name": "stdout",
     "output_type": "stream",
     "text": [
      "3456789\n",
      "8 6 4 "
     ]
    }
   ],
   "source": [
    "# 47589\n",
    "# 8 4\n",
    "n = int(input())\n",
    "while(n>0):\n",
    "    r=n%10\n",
    "    if(r%2==0):\n",
    "        print(r,end=' ')\n",
    "    n=n//10"
   ]
  },
  {
   "cell_type": "code",
   "execution_count": 49,
   "id": "3cb0de04",
   "metadata": {},
   "outputs": [
    {
     "name": "stdout",
     "output_type": "stream",
     "text": [
      "48945\n",
      "Product=  45\n"
     ]
    }
   ],
   "source": [
    "# 48945\n",
    "# 5 9 = 45\n",
    "n = int(input())\n",
    "p=1\n",
    "while(n>0):\n",
    "    r=n%10\n",
    "    if(r%2==1):\n",
    "        p=p*r\n",
    "    n=n//10\n",
    "print(\"Product= \",p)"
   ]
  },
  {
   "cell_type": "code",
   "execution_count": null,
   "id": "ef59c428",
   "metadata": {},
   "outputs": [],
   "source": []
  },
  {
   "cell_type": "code",
   "execution_count": null,
   "id": "665807d7",
   "metadata": {},
   "outputs": [],
   "source": []
  },
  {
   "cell_type": "code",
   "execution_count": null,
   "id": "18658ca3",
   "metadata": {},
   "outputs": [],
   "source": []
  },
  {
   "cell_type": "code",
   "execution_count": null,
   "id": "15889169",
   "metadata": {},
   "outputs": [],
   "source": []
  }
 ],
 "metadata": {
  "kernelspec": {
   "display_name": "Python 3 (ipykernel)",
   "language": "python",
   "name": "python3"
  },
  "language_info": {
   "codemirror_mode": {
    "name": "ipython",
    "version": 3
   },
   "file_extension": ".py",
   "mimetype": "text/x-python",
   "name": "python",
   "nbconvert_exporter": "python",
   "pygments_lexer": "ipython3",
   "version": "3.9.13"
  }
 },
 "nbformat": 4,
 "nbformat_minor": 5
}
