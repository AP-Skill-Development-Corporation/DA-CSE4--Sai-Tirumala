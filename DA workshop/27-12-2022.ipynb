{
 "cells": [
  {
   "cell_type": "code",
   "execution_count": null,
   "id": "2debc7ad",
   "metadata": {},
   "outputs": [],
   "source": [
    "# keyword\n",
    "\n",
    "    -> Reserved words in python"
   ]
  },
  {
   "cell_type": "code",
   "execution_count": 4,
   "id": "ed9cda5e",
   "metadata": {},
   "outputs": [
    {
     "name": "stdout",
     "output_type": "stream",
     "text": [
      "['False', 'None', 'True', '__peg_parser__', 'and', 'as', 'assert', 'async', 'await', 'break', 'class', 'continue', 'def', 'del', 'elif', 'else', 'except', 'finally', 'for', 'from', 'global', 'if', 'import', 'in', 'is', 'lambda', 'nonlocal', 'not', 'or', 'pass', 'raise', 'return', 'try', 'while', 'with', 'yield']\n"
     ]
    }
   ],
   "source": [
    "import keyword\n",
    "print(keyword.kwlist)"
   ]
  },
  {
   "cell_type": "code",
   "execution_count": 5,
   "id": "cae9e885",
   "metadata": {},
   "outputs": [
    {
     "name": "stdout",
     "output_type": "stream",
     "text": [
      "36\n"
     ]
    }
   ],
   "source": [
    "# keywords length\n",
    "import keyword\n",
    "print(len(keyword.kwlist))"
   ]
  },
  {
   "cell_type": "markdown",
   "id": "b86aa0de",
   "metadata": {},
   "source": [
    "#### Variable\n",
    "   - Which is used to store the data"
   ]
  },
  {
   "cell_type": "code",
   "execution_count": 6,
   "id": "da5f375b",
   "metadata": {},
   "outputs": [
    {
     "name": "stdout",
     "output_type": "stream",
     "text": [
      "10\n"
     ]
    }
   ],
   "source": [
    "a = 10\n",
    "print(a)"
   ]
  },
  {
   "cell_type": "code",
   "execution_count": 7,
   "id": "81ff7d13",
   "metadata": {},
   "outputs": [
    {
     "data": {
      "text/plain": [
       "67"
      ]
     },
     "execution_count": 7,
     "metadata": {},
     "output_type": "execute_result"
    }
   ],
   "source": [
    "_a = 67\n",
    "_a"
   ]
  },
  {
   "cell_type": "code",
   "execution_count": 8,
   "id": "e1beb496",
   "metadata": {},
   "outputs": [
    {
     "data": {
      "text/plain": [
       "'vanitha'"
      ]
     },
     "execution_count": 8,
     "metadata": {},
     "output_type": "execute_result"
    }
   ],
   "source": [
    "first_name = \"vanitha\"\n",
    "first_name"
   ]
  },
  {
   "cell_type": "code",
   "execution_count": 10,
   "id": "43079aff",
   "metadata": {},
   "outputs": [
    {
     "data": {
      "text/plain": [
       "78"
      ]
     },
     "execution_count": 10,
     "metadata": {},
     "output_type": "execute_result"
    }
   ],
   "source": [
    "a4 = 78\n",
    "a4"
   ]
  },
  {
   "cell_type": "markdown",
   "id": "0f227c7b",
   "metadata": {},
   "source": [
    "## Datatypes\n",
    "    - int  \n",
    "    - float \n",
    "    - str\n",
    "    - boolean----> True,False"
   ]
  },
  {
   "cell_type": "code",
   "execution_count": 14,
   "id": "e0e10fef",
   "metadata": {},
   "outputs": [
    {
     "name": "stdout",
     "output_type": "stream",
     "text": [
      "Enter any number: 5\n",
      "5\n"
     ]
    }
   ],
   "source": [
    "# Dynamic way\n",
    "# integer\n",
    "a = int(input('Enter any number: '))\n",
    "print(a)"
   ]
  },
  {
   "cell_type": "code",
   "execution_count": 12,
   "id": "ad52c26a",
   "metadata": {},
   "outputs": [
    {
     "name": "stdout",
     "output_type": "stream",
     "text": [
      "Enter any number: 5.8\n"
     ]
    },
    {
     "data": {
      "text/plain": [
       "5.8"
      ]
     },
     "execution_count": 12,
     "metadata": {},
     "output_type": "execute_result"
    }
   ],
   "source": [
    "# float\n",
    "s = float(input('Enter any number: '))\n",
    "s"
   ]
  },
  {
   "cell_type": "code",
   "execution_count": 15,
   "id": "2b237fea",
   "metadata": {
    "collapsed": true
   },
   "outputs": [
    {
     "name": "stdout",
     "output_type": "stream",
     "text": [
      "Enter any string: apssdc\n"
     ]
    },
    {
     "data": {
      "text/plain": [
       "'apssdc'"
      ]
     },
     "execution_count": 15,
     "metadata": {},
     "output_type": "execute_result"
    }
   ],
   "source": [
    "# string\n",
    "st = input('Enter any string: ')\n",
    "st"
   ]
  },
  {
   "cell_type": "code",
   "execution_count": 16,
   "id": "1c733b15",
   "metadata": {
    "collapsed": true
   },
   "outputs": [
    {
     "name": "stdout",
     "output_type": "stream",
     "text": [
      "Enter any string: vanitha\n"
     ]
    },
    {
     "data": {
      "text/plain": [
       "'vanitha'"
      ]
     },
     "execution_count": 16,
     "metadata": {},
     "output_type": "execute_result"
    }
   ],
   "source": [
    "st1 = str(input('Enter any string: '))\n",
    "st1"
   ]
  },
  {
   "cell_type": "markdown",
   "id": "4412ac4c",
   "metadata": {},
   "source": [
    "#### Type Conversions\n",
    "\n",
    "#### Syntax\n",
    "     \n",
    "     - int    :   int(variable_name)\n",
    "     - float  :   float(variable_name)\n",
    "     - str    :   str(variable_name)\n"
   ]
  },
  {
   "cell_type": "code",
   "execution_count": 17,
   "id": "62ed4ab7",
   "metadata": {
    "collapsed": true
   },
   "outputs": [
    {
     "name": "stdout",
     "output_type": "stream",
     "text": [
      "89 <class 'int'>\n",
      "89.0 <class 'float'>\n"
     ]
    }
   ],
   "source": [
    "# integer to float\n",
    "n = 89\n",
    "print(n,type(n))\n",
    "z = float(n)\n",
    "print(z,type(z))"
   ]
  },
  {
   "cell_type": "code",
   "execution_count": 18,
   "id": "735a03b8",
   "metadata": {
    "collapsed": true
   },
   "outputs": [
    {
     "name": "stdout",
     "output_type": "stream",
     "text": [
      "4.7 <class 'float'>\n",
      "4 <class 'int'>\n"
     ]
    }
   ],
   "source": [
    "# float to integer\n",
    "f = 4.7\n",
    "print(f,type(f))\n",
    "z1 = int(f)\n",
    "print(z1,type(z1))"
   ]
  },
  {
   "cell_type": "code",
   "execution_count": 20,
   "id": "20597588",
   "metadata": {},
   "outputs": [
    {
     "name": "stdout",
     "output_type": "stream",
     "text": [
      "897 <class 'int'>\n",
      "897 <class 'str'>\n"
     ]
    }
   ],
   "source": [
    "# integer to string\n",
    "st = 897\n",
    "print(st,type(st))\n",
    "z2 = str(st)\n",
    "print(z2,type(z2))"
   ]
  },
  {
   "cell_type": "markdown",
   "id": "979b0d33",
   "metadata": {},
   "source": [
    "#### Tasks\n",
    "    1. Conversion of float to string\n",
    "    2. Write a program to check whether a number is prime or not\n",
    "    3. Write a program to check whether a number is perfect or not"
   ]
  },
  {
   "cell_type": "code",
   "execution_count": null,
   "id": "bc41abbf",
   "metadata": {},
   "outputs": [],
   "source": []
  },
  {
   "cell_type": "code",
   "execution_count": null,
   "id": "b3d9f0d8",
   "metadata": {},
   "outputs": [],
   "source": []
  },
  {
   "cell_type": "code",
   "execution_count": null,
   "id": "c76fc705",
   "metadata": {},
   "outputs": [],
   "source": []
  },
  {
   "cell_type": "code",
   "execution_count": null,
   "id": "a8f82e46",
   "metadata": {},
   "outputs": [],
   "source": []
  },
  {
   "cell_type": "code",
   "execution_count": null,
   "id": "e6aca588",
   "metadata": {},
   "outputs": [],
   "source": []
  },
  {
   "cell_type": "code",
   "execution_count": null,
   "id": "62b1be3b",
   "metadata": {},
   "outputs": [],
   "source": []
  },
  {
   "cell_type": "code",
   "execution_count": null,
   "id": "40586332",
   "metadata": {},
   "outputs": [],
   "source": []
  },
  {
   "cell_type": "code",
   "execution_count": null,
   "id": "58b32414",
   "metadata": {},
   "outputs": [],
   "source": []
  },
  {
   "cell_type": "code",
   "execution_count": null,
   "id": "6e8dc50c",
   "metadata": {},
   "outputs": [],
   "source": []
  },
  {
   "cell_type": "code",
   "execution_count": null,
   "id": "1898f62f",
   "metadata": {},
   "outputs": [],
   "source": []
  },
  {
   "cell_type": "code",
   "execution_count": null,
   "id": "9ff5dcae",
   "metadata": {},
   "outputs": [],
   "source": []
  },
  {
   "cell_type": "code",
   "execution_count": null,
   "id": "0c357866",
   "metadata": {},
   "outputs": [],
   "source": []
  }
 ],
 "metadata": {
  "kernelspec": {
   "display_name": "Python 3 (ipykernel)",
   "language": "python",
   "name": "python3"
  },
  "language_info": {
   "codemirror_mode": {
    "name": "ipython",
    "version": 3
   },
   "file_extension": ".py",
   "mimetype": "text/x-python",
   "name": "python",
   "nbconvert_exporter": "python",
   "pygments_lexer": "ipython3",
   "version": "3.9.13"
  }
 },
 "nbformat": 4,
 "nbformat_minor": 5
}
