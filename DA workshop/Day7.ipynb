{
 "cells": [
  {
   "cell_type": "markdown",
   "id": "bfe09f09",
   "metadata": {},
   "source": [
    "#### Files in python\n",
    "- anything that contains information / data called as file\n",
    "- kinds of files\n",
    "    1. images,videos\n",
    "    2. text files(.txt,.doc)\n",
    "    3. excel file(.xls)\n",
    "- File Operations\n",
    "    1. open()\n",
    "    2. read()\n",
    "    3. write()\n",
    "    4. append()\n",
    "    5. close()\n",
    "    "
   ]
  },
  {
   "cell_type": "markdown",
   "id": "fe8ca624",
   "metadata": {},
   "source": [
    "##### open()\n",
    "- opens the existed file\n",
    "- 2syntaxes to open the file\n",
    "    1. var=open(filename,mode)\n",
    "    2. with open(filename,mode) as var:"
   ]
  },
  {
   "cell_type": "code",
   "execution_count": 7,
   "id": "a2d93e2c",
   "metadata": {
    "collapsed": true
   },
   "outputs": [
    {
     "name": "stdout",
     "output_type": "stream",
     "text": [
      "Hi I am new to programming\n",
      "I am leaning files concept\n",
      "And this is good.\n"
     ]
    }
   ],
   "source": [
    "file=open('first.txt','r') # r represents the read mode\n",
    "print(file.read()) #read operation\n",
    "file.close()"
   ]
  },
  {
   "cell_type": "code",
   "execution_count": 6,
   "id": "0c5ea35a",
   "metadata": {
    "collapsed": true
   },
   "outputs": [
    {
     "name": "stdout",
     "output_type": "stream",
     "text": [
      "Hi I am new to programming\n",
      "I am leaning files concept\n",
      "And this is good.\n"
     ]
    }
   ],
   "source": [
    "with open('first.txt','r') as sec: #text\n",
    "    sec=sec.read()#str\n",
    "    print(sec)"
   ]
  },
  {
   "cell_type": "code",
   "execution_count": 5,
   "id": "bf00c722",
   "metadata": {},
   "outputs": [
    {
     "data": {
      "text/plain": [
       "<_io.TextIOWrapper name='first.txt' mode='r' encoding='cp1252'>"
      ]
     },
     "execution_count": 5,
     "metadata": {},
     "output_type": "execute_result"
    }
   ],
   "source": [
    "file"
   ]
  },
  {
   "cell_type": "code",
   "execution_count": null,
   "id": "d47faa28",
   "metadata": {},
   "outputs": [],
   "source": [
    "#after reading text file will be converted str"
   ]
  },
  {
   "cell_type": "code",
   "execution_count": 8,
   "id": "c9f544fe",
   "metadata": {
    "collapsed": true
   },
   "outputs": [
    {
     "name": "stdout",
     "output_type": "stream",
     "text": [
      "Hi I am new to programming\n",
      "I am leaning files concept\n",
      "And this is good.\n"
     ]
    }
   ],
   "source": [
    "with open('first.txt','r') as new: #text file\n",
    "    print(new.read()) #direct display\n",
    "    new.close()"
   ]
  },
  {
   "cell_type": "code",
   "execution_count": 9,
   "id": "051b89ac",
   "metadata": {
    "collapsed": true
   },
   "outputs": [
    {
     "name": "stdout",
     "output_type": "stream",
     "text": [
      "st=input()\n",
      "#I want to replace the first and last chars with * in the given str\n",
      "#st=pallavi:*allav*\n",
      "n=len(st)\n",
      "for ix in range(n):\n",
      "    if ix==0 or ix==n-1:\n",
      "        print('*',end=\"\")\n",
      "    else:\n",
      "        print(st[ix],end=\"\")\n"
     ]
    }
   ],
   "source": [
    "#reading python file\n",
    "data=open('second.py','r')\n",
    "print(data.read())"
   ]
  },
  {
   "cell_type": "code",
   "execution_count": 16,
   "id": "146bd6f9",
   "metadata": {
    "collapsed": true
   },
   "outputs": [
    {
     "name": "stdout",
     "output_type": "stream",
     "text": [
      "st=input()\n",
      "\n",
      "#I want to replace the first and last chars with * in the given str\n",
      "\n",
      "#st=pallavi:*allav*\n",
      "\n",
      "n=len(st)\n",
      "\n",
      "for ix in range(n):\n",
      "\n",
      "    if ix==0 or ix==n-1:\n",
      "\n",
      "        print('*',end=\"\")\n",
      "\n",
      "    else:\n",
      "\n",
      "        print(st[ix],end=\"\")\n"
     ]
    }
   ],
   "source": [
    "with open('second.py','r') as li:\n",
    "    li=li.readlines()\n",
    "    # readlines is the function that reads specific(n) lines\n",
    "    print(*li,sep='\\n')"
   ]
  },
  {
   "cell_type": "code",
   "execution_count": 18,
   "id": "f1eb3da1",
   "metadata": {},
   "outputs": [
    {
     "name": "stdout",
     "output_type": "stream",
     "text": [
      "st=input()\n",
      "#I want t\n"
     ]
    }
   ],
   "source": [
    "#specific no.of characters-->integer\n",
    "ex=open('second.py','r')\n",
    "print(ex.read(20))"
   ]
  },
  {
   "cell_type": "markdown",
   "id": "216c2078",
   "metadata": {},
   "source": [
    "#### write() \n",
    "- writes the new content into the file\n",
    "- over writes the existed data\n",
    "- file.write()\n",
    "- 'w' is the mode"
   ]
  },
  {
   "cell_type": "code",
   "execution_count": 19,
   "id": "bc587ffe",
   "metadata": {},
   "outputs": [],
   "source": [
    "file2=open('first.txt','w')\n",
    "file2.write('data overwrited ...! Thank you')\n",
    "file2.close()"
   ]
  },
  {
   "cell_type": "code",
   "execution_count": 21,
   "id": "4a587f50",
   "metadata": {},
   "outputs": [],
   "source": [
    "wln=open('fist.txt','w')\n",
    "wln.writelines('this is first attempt\\n'*3)\n",
    "wln.close()"
   ]
  },
  {
   "cell_type": "markdown",
   "id": "6e7500d4",
   "metadata": {},
   "source": [
    "#### append()\n",
    "- adds new content to the existed data in the file\n",
    "- file.write()\n",
    "- 'a' mode"
   ]
  },
  {
   "cell_type": "code",
   "execution_count": 28,
   "id": "0be6d7de",
   "metadata": {},
   "outputs": [],
   "source": [
    "pgm=open('second.py','a')\n",
    "pgm.write('print(\"this is at the end\")')\n",
    "pgm.close()"
   ]
  },
  {
   "cell_type": "code",
   "execution_count": 30,
   "id": "db78c8e3",
   "metadata": {},
   "outputs": [
    {
     "name": "stdout",
     "output_type": "stream",
     "text": [
      "st=input()\n",
      "#I want to replace the first and last chars with * in the given str\n",
      "#st=pallavi:*allav*\n",
      "n=len(st)\n",
      "for ix in range(n):\n",
      "    if ix==0 or ix==n-1:\n",
      "        print('*',end=\"\")\n",
      "    else:\n",
      "        print(st[ix],end=\"\")\n",
      "print(\"data added using append\")\n",
      "print(\"data added using append\")\n",
      "print(\"new to progamming\")\n",
      "print(\"new to progamming\")\n",
      "print(\"this is at the end\n",
      "\")hi welcome to DA Workshop\n"
     ]
    },
    {
     "data": {
      "text/plain": [
       "418"
      ]
     },
     "execution_count": 30,
     "metadata": {},
     "output_type": "execute_result"
    }
   ],
   "source": [
    "# r+ mode\n",
    "both=open('second.py','r+')\n",
    "print(both.read())\n",
    "both.write('hi welcome to DA Workshop')\n",
    "both.tell() # gives the cursor position/size of the file"
   ]
  },
  {
   "cell_type": "code",
   "execution_count": null,
   "id": "ba85deee",
   "metadata": {},
   "outputs": [],
   "source": []
  }
 ],
 "metadata": {
  "kernelspec": {
   "display_name": "Python 3 (ipykernel)",
   "language": "python",
   "name": "python3"
  },
  "language_info": {
   "codemirror_mode": {
    "name": "ipython",
    "version": 3
   },
   "file_extension": ".py",
   "mimetype": "text/x-python",
   "name": "python",
   "nbconvert_exporter": "python",
   "pygments_lexer": "ipython3",
   "version": "3.9.13"
  }
 },
 "nbformat": 4,
 "nbformat_minor": 5
}
