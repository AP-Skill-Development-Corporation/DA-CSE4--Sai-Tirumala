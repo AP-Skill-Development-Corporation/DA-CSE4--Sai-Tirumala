{
 "cells": [
  {
   "cell_type": "markdown",
   "id": "e94bc511",
   "metadata": {},
   "source": [
    "- Operators\n",
    "- Conditional Statements"
   ]
  },
  {
   "cell_type": "markdown",
   "id": "8d6aa98c",
   "metadata": {},
   "source": [
    "- Arithmetic :-  +,-,*,/,%,//(floor),power(**)\n",
    "- Assignment :-  =,+=,-=,/=,.......\n",
    "- Comparision:-  ==,!=,<,>,<=,>=\n",
    "- Logical:-  and,or,not\n",
    "- Bitwise:- &,|,^,<<,>>\n",
    "- Membership:-  is,is not\n",
    "- Identity:- in,not in"
   ]
  },
  {
   "cell_type": "code",
   "execution_count": null,
   "id": "ad7ecfc5",
   "metadata": {},
   "outputs": [],
   "source": [
    "# Arithmetic Operators:-\n",
    "    --> These operators are used to perform mathematical operations"
   ]
  },
  {
   "cell_type": "code",
   "execution_count": 1,
   "id": "3a3b96f7",
   "metadata": {},
   "outputs": [
    {
     "name": "stdout",
     "output_type": "stream",
     "text": [
      "9 -3 18 0.5\n"
     ]
    }
   ],
   "source": [
    "a,b=3,6\n",
    "print(a+b,a-b,a*b,a/b)"
   ]
  },
  {
   "cell_type": "code",
   "execution_count": 2,
   "id": "984f9610",
   "metadata": {},
   "outputs": [
    {
     "data": {
      "text/plain": [
       "3"
      ]
     },
     "execution_count": 2,
     "metadata": {},
     "output_type": "execute_result"
    }
   ],
   "source": [
    "a%b"
   ]
  },
  {
   "cell_type": "code",
   "execution_count": 3,
   "id": "0bd6e11b",
   "metadata": {},
   "outputs": [
    {
     "data": {
      "text/plain": [
       "0"
      ]
     },
     "execution_count": 3,
     "metadata": {},
     "output_type": "execute_result"
    }
   ],
   "source": [
    "a//b"
   ]
  },
  {
   "cell_type": "code",
   "execution_count": 4,
   "id": "eab4dedc",
   "metadata": {},
   "outputs": [
    {
     "data": {
      "text/plain": [
       "9"
      ]
     },
     "execution_count": 4,
     "metadata": {},
     "output_type": "execute_result"
    }
   ],
   "source": [
    "a**2"
   ]
  },
  {
   "cell_type": "code",
   "execution_count": null,
   "id": "09fff382",
   "metadata": {},
   "outputs": [],
   "source": [
    "# Assignment :-  =,+=,-=,/=,.......\n",
    "    -> These operators are used to assign the values to the variables"
   ]
  },
  {
   "cell_type": "code",
   "execution_count": 5,
   "id": "d08d8cef",
   "metadata": {},
   "outputs": [
    {
     "name": "stdout",
     "output_type": "stream",
     "text": [
      "21\n"
     ]
    }
   ],
   "source": [
    "d = 19\n",
    "d += 2 # d=d+2=19+2=21\n",
    "print(d)"
   ]
  },
  {
   "cell_type": "code",
   "execution_count": 6,
   "id": "aa1c3e11",
   "metadata": {},
   "outputs": [
    {
     "name": "stdout",
     "output_type": "stream",
     "text": [
      "46\n"
     ]
    }
   ],
   "source": [
    "f = 67\n",
    "f -= d # 67-21=46\n",
    "print(f)"
   ]
  },
  {
   "cell_type": "code",
   "execution_count": 7,
   "id": "156ad593",
   "metadata": {},
   "outputs": [
    {
     "name": "stdout",
     "output_type": "stream",
     "text": [
      "138\n"
     ]
    }
   ],
   "source": [
    "m = 3\n",
    "m *= f\n",
    "print(m)"
   ]
  },
  {
   "cell_type": "code",
   "execution_count": null,
   "id": "8c3821c1",
   "metadata": {},
   "outputs": [],
   "source": [
    "# Comparision:-  ==,!=,<,>,<=,>=\n",
    "    --> These operators are used to compare the values"
   ]
  },
  {
   "cell_type": "code",
   "execution_count": 10,
   "id": "272b9863",
   "metadata": {},
   "outputs": [
    {
     "name": "stdout",
     "output_type": "stream",
     "text": [
      "False True\n",
      "False True\n",
      "True False\n"
     ]
    }
   ],
   "source": [
    "f,g=6,7\n",
    "print(f==g,f!=g)\n",
    "print(f>g,f<g)\n",
    "print(f<=g,f>=g)"
   ]
  },
  {
   "cell_type": "code",
   "execution_count": 13,
   "id": "2f7437c0",
   "metadata": {
    "collapsed": true
   },
   "outputs": [
    {
     "name": "stdout",
     "output_type": "stream",
     "text": [
      "False\n",
      "True\n",
      "False\n"
     ]
    }
   ],
   "source": [
    "# Logical Operators:-  and,or,not\n",
    "k,h = 5,7\n",
    "print(k==h and k!=h) # F and T\n",
    "print(k<h and k!=h)  # t and t\n",
    "print(k<=h and k>=h)  # t and f"
   ]
  },
  {
   "cell_type": "code",
   "execution_count": 16,
   "id": "6c1ff517",
   "metadata": {
    "collapsed": true
   },
   "outputs": [
    {
     "name": "stdout",
     "output_type": "stream",
     "text": [
      "True\n",
      "True\n",
      "True\n"
     ]
    }
   ],
   "source": [
    "print(k==h or k!=h)\n",
    "print(k<h or k!=h)\n",
    "print(k<=h or k>=h)"
   ]
  },
  {
   "cell_type": "code",
   "execution_count": 18,
   "id": "f79c600c",
   "metadata": {},
   "outputs": [
    {
     "name": "stdout",
     "output_type": "stream",
     "text": [
      "True\n"
     ]
    }
   ],
   "source": [
    "# logical not\n",
    "j,k=5,6\n",
    "print(not(j>k))"
   ]
  },
  {
   "cell_type": "code",
   "execution_count": null,
   "id": "11609b55",
   "metadata": {},
   "outputs": [],
   "source": [
    "# Bitwise Operators:-  &,|,^,<<,>>"
   ]
  },
  {
   "cell_type": "code",
   "execution_count": 21,
   "id": "71e29ddb",
   "metadata": {},
   "outputs": [
    {
     "data": {
      "text/plain": [
       "'0b11110'"
      ]
     },
     "execution_count": 21,
     "metadata": {},
     "output_type": "execute_result"
    }
   ],
   "source": [
    "bin(30)"
   ]
  },
  {
   "cell_type": "code",
   "execution_count": 24,
   "id": "9cf1723b",
   "metadata": {},
   "outputs": [
    {
     "name": "stdout",
     "output_type": "stream",
     "text": [
      "0 30 30\n"
     ]
    }
   ],
   "source": [
    "a,b=10,20\n",
    "print(a&b,a|b,a^b)"
   ]
  },
  {
   "cell_type": "code",
   "execution_count": null,
   "id": "46bc70ef",
   "metadata": {},
   "outputs": [],
   "source": [
    "# Membership Operators:-   is,is not\n",
    "    --> These operators are used to check whether a value/character\n",
    "        is presented in a sequence or not.\n",
    "        \n",
    "    sequence:-  string,list,tuple,dictionary,set"
   ]
  },
  {
   "cell_type": "code",
   "execution_count": 27,
   "id": "04eae516",
   "metadata": {
    "collapsed": true
   },
   "outputs": [
    {
     "name": "stdout",
     "output_type": "stream",
     "text": [
      "True\n",
      "True\n",
      "False\n"
     ]
    }
   ],
   "source": [
    "# in \n",
    "s = \"apssdc\"\n",
    "print(\"p\" in s)\n",
    "print(\"s\" in s)\n",
    "print(\"z\" in s)"
   ]
  },
  {
   "cell_type": "code",
   "execution_count": 30,
   "id": "1201deab",
   "metadata": {
    "collapsed": true
   },
   "outputs": [
    {
     "name": "stdout",
     "output_type": "stream",
     "text": [
      "False\n",
      "True\n",
      "True\n"
     ]
    }
   ],
   "source": [
    "# not in \n",
    "print(\"s\" not in s)\n",
    "print(\"w\" not in s)\n",
    "print(\"y\" not in s)"
   ]
  },
  {
   "cell_type": "code",
   "execution_count": 33,
   "id": "317517d6",
   "metadata": {
    "collapsed": true
   },
   "outputs": [
    {
     "name": "stdout",
     "output_type": "stream",
     "text": [
      "True\n",
      "True\n",
      "False\n"
     ]
    }
   ],
   "source": [
    "s = \"apssdc\"\n",
    "print(\"pss\" in s)\n",
    "print(\"ssdc\" in s)\n",
    "print(\"sc\" in s)"
   ]
  },
  {
   "cell_type": "code",
   "execution_count": null,
   "id": "18926fdc",
   "metadata": {},
   "outputs": [],
   "source": [
    "# Identity Operators:  is,is not\n",
    "    --> These operators are used to check the memory locations of the \n",
    "       two objects"
   ]
  },
  {
   "cell_type": "code",
   "execution_count": 39,
   "id": "abb5d9ba",
   "metadata": {
    "collapsed": true
   },
   "outputs": [
    {
     "name": "stdout",
     "output_type": "stream",
     "text": [
      "False True\n",
      "2300610374096 2300610374128\n",
      "True False\n",
      "2300610374096 2300610374096\n"
     ]
    }
   ],
   "source": [
    "v,n,v1 = 6,7,6\n",
    "print(v is n, v is not n)\n",
    "print(id(v),id(n))\n",
    "print(v is v1,v is not v1)\n",
    "print(id(v),id(v1))"
   ]
  },
  {
   "cell_type": "markdown",
   "id": "817d6b89",
   "metadata": {},
   "source": [
    "#### Conditional Statements\n",
    "    - if\n",
    "    - if else\n",
    "    - elif\n",
    "    - nested if"
   ]
  },
  {
   "cell_type": "markdown",
   "id": "c94232c3",
   "metadata": {},
   "source": [
    "- Syntax for if else statement\n",
    "-------------------------------------\n",
    "if(condition):\n",
    "  statements\n",
    "else:\n",
    "  statements\n",
    "  "
   ]
  },
  {
   "cell_type": "code",
   "execution_count": 42,
   "id": "2e85b818",
   "metadata": {
    "collapsed": true
   },
   "outputs": [
    {
     "name": "stdout",
     "output_type": "stream",
     "text": [
      "9\n",
      "Odd\n"
     ]
    }
   ],
   "source": [
    "n = int(input())\n",
    "if(n%2==0):\n",
    "    print(\"Even\")\n",
    "else:\n",
    "    print(\"Odd\")"
   ]
  },
  {
   "cell_type": "code",
   "execution_count": 43,
   "id": "0601e5d2",
   "metadata": {
    "collapsed": true
   },
   "outputs": [
    {
     "name": "stdout",
     "output_type": "stream",
     "text": [
      "56\n",
      "89\n",
      "89 is big\n"
     ]
    }
   ],
   "source": [
    "a,b=int(input()),int(input())\n",
    "if(a>b):\n",
    "    print(a,\"is big\")\n",
    "else:\n",
    "    print(b,\"is big\")"
   ]
  },
  {
   "cell_type": "code",
   "execution_count": 45,
   "id": "cf22da51",
   "metadata": {
    "collapsed": true
   },
   "outputs": [
    {
     "name": "stdout",
     "output_type": "stream",
     "text": [
      "12\n",
      "Not Eligible for vote\n"
     ]
    }
   ],
   "source": [
    "age = int(input())\n",
    "if(age>=18):\n",
    "    print(\"Eligible for vote\")\n",
    "else:\n",
    "    print(\"Not Eligible for vote\")"
   ]
  },
  {
   "cell_type": "code",
   "execution_count": null,
   "id": "dccf809a",
   "metadata": {},
   "outputs": [],
   "source": [
    "syntax for elif statement\n",
    "-----------------------\n",
    "if(condition1):\n",
    "    statements\n",
    "elif(condition2):\n",
    "    statements\n",
    "elif(condition3):\n",
    "    statements\n",
    ".........\n",
    "else:\n",
    "    statements"
   ]
  },
  {
   "cell_type": "code",
   "execution_count": 47,
   "id": "e463af7e",
   "metadata": {},
   "outputs": [
    {
     "name": "stdout",
     "output_type": "stream",
     "text": [
      "3\n",
      "wednesday\n"
     ]
    }
   ],
   "source": [
    "week = int(input())\n",
    "if(week==0):\n",
    "    print(\"sunday\")\n",
    "elif(week==1):\n",
    "    print(\"monday\")\n",
    "elif(week==2):\n",
    "    print(\"tuesday\")\n",
    "elif(week==3):\n",
    "    print(\"wednesday\")\n",
    "elif(week==4):\n",
    "    print(\"thursday\")\n",
    "elif(week==5):\n",
    "    print(\"friday\")\n",
    "elif(week==6):\n",
    "    print(\"saturday\")\n",
    "else:\n",
    "    print(\"Invalid input\")"
   ]
  },
  {
   "cell_type": "code",
   "execution_count": 48,
   "id": "408c7cc8",
   "metadata": {},
   "outputs": [
    {
     "name": "stdout",
     "output_type": "stream",
     "text": [
      "23\n",
      "56\n",
      "77\n",
      "77 is big\n"
     ]
    }
   ],
   "source": [
    "x,y,z=int(input()),int(input()),int(input())\n",
    "if(x>y and x>z):\n",
    "    print(x,\"is big\")\n",
    "elif(y>z):\n",
    "    print(y,\"is big\")\n",
    "else:\n",
    "    print(z,\"is big\")\n"
   ]
  },
  {
   "cell_type": "code",
   "execution_count": null,
   "id": "766f9762",
   "metadata": {},
   "outputs": [],
   "source": []
  }
 ],
 "metadata": {
  "kernelspec": {
   "display_name": "Python 3 (ipykernel)",
   "language": "python",
   "name": "python3"
  },
  "language_info": {
   "codemirror_mode": {
    "name": "ipython",
    "version": 3
   },
   "file_extension": ".py",
   "mimetype": "text/x-python",
   "name": "python",
   "nbconvert_exporter": "python",
   "pygments_lexer": "ipython3",
   "version": "3.9.13"
  }
 },
 "nbformat": 4,
 "nbformat_minor": 5
}
